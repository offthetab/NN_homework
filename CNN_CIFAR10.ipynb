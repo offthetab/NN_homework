{
  "cells": [
    {
      "cell_type": "markdown",
      "metadata": {
        "id": "view-in-github",
        "colab_type": "text"
      },
      "source": [
        "<a href=\"https://colab.research.google.com/github/offthetab/NN_homework/blob/main/CNN_CIFAR10.ipynb\" target=\"_parent\"><img src=\"https://colab.research.google.com/assets/colab-badge.svg\" alt=\"Open In Colab\"/></a>"
      ]
    },
    {
      "cell_type": "markdown",
      "metadata": {
        "id": "h6q6bYfB1xNr"
      },
      "source": [
        "# Свёрточная нейронная сеть CNN (теория)\n",
        "\n",
        "---\n",
        "\n"
      ]
    },
    {
      "cell_type": "markdown",
      "metadata": {
        "id": "YGDKogzr1w6J"
      },
      "source": [
        "## Задание 1\n",
        "• Рассчитать результат свертки: размер входного изображения: 1024 x 1024. Какого размера получится результат свёртки 5 x 5, со страйдом ( 1 , 1 ), с паддингом ( 1 , 1 ) если на выходе\n",
        "должно быть 44 каналов."
      ]
    },
    {
      "cell_type": "code",
      "execution_count": null,
      "metadata": {
        "colab": {
          "base_uri": "https://localhost:8080/"
        },
        "id": "697rWc7-2Kk6",
        "outputId": "0395675d-e34f-4dfb-bbd4-f7ead4a81664"
      },
      "outputs": [
        {
          "output_type": "stream",
          "name": "stdout",
          "text": [
            "\n",
            "with args specification (44, 1022.0, 1022.0)\n"
          ]
        }
      ],
      "source": [
        "def conv(image: list[int, int] = None, Ch_out: int = None, K: list[int, int] = None,\n",
        "         S : list[int, int] = None, P : list[int, int] = None,):\n",
        "  # image size\n",
        "  if image is None:\n",
        "    image = list(map(int, str(input(\"image size: \")).split(\" \")))\n",
        "\n",
        "  # amount of channels out\n",
        "  if Ch_out is None:\n",
        "    Ch_out = int(input(\"Ch_out: \"))\n",
        "\n",
        "  # kernel size\n",
        "  if K is None:\n",
        "    K = list(map(int, str(input(\"Kernel: \")).split(\" \")))\n",
        "\n",
        "  # stride size\n",
        "  if S is None:\n",
        "    S = list(map(int, str(input(\"Stride: \")).split(\" \")))\n",
        "\n",
        "  # padding size\n",
        "  if P is None:\n",
        "    P = list(map(int, str(input(\"Padding: \")).split(\" \")))\n",
        "\n",
        "  # computing image size out\n",
        "  W_out = (image[0] - K[0] + 2 * P[0]) / S[0] + 1\n",
        "  H_out = (image[1] - K[1] + 2 * P[1]) / S[1] + 1\n",
        "\n",
        "  return Ch_out, W_out, H_out\n",
        "\n",
        "# without args\n",
        "# print(\"\\nwithout args\", conv())\n",
        "\n",
        "# with args specification\n",
        "print(\"\\nwith args specification\",\n",
        "      conv(image=[1024, 1024], Ch_out=44, K=[5, 5], S=[1, 1], P=[1, 1]))"
      ]
    },
    {
      "cell_type": "markdown",
      "metadata": {
        "id": "i9Hu8f042Lwd"
      },
      "source": [
        "\n",
        "## Задание 2\n",
        "Рассчитать результат свертки: размер входного изображения: 128 x 128. Какого размера получится\n",
        "результат свёртки 9 x 9, со страйдом (1, 1), с паддингом (1, 1) если на\n",
        "выходе должно быть 9 каналов."
      ]
    },
    {
      "cell_type": "code",
      "execution_count": null,
      "metadata": {
        "id": "QqjlCC7U2KuZ",
        "colab": {
          "base_uri": "https://localhost:8080/"
        },
        "outputId": "e1af7ed8-181a-40ee-af45-cc10bd739f3d"
      },
      "outputs": [
        {
          "output_type": "stream",
          "name": "stdout",
          "text": [
            "image size: 128 128\n",
            "Ch_out: 9\n",
            "Kernel: 9 9\n",
            "Stride: 1 1\n",
            "Padding: 1 1\n",
            "(9, 122.0, 122.0)\n"
          ]
        }
      ],
      "source": [
        "print(conv())"
      ]
    },
    {
      "cell_type": "markdown",
      "source": [
        "## Задание 3"
      ],
      "metadata": {
        "id": "V4o2jtZ6eXIt"
      }
    },
    {
      "cell_type": "markdown",
      "metadata": {
        "id": "TikfOh0E2MGG"
      },
      "source": [
        "Найти количество параметров в свёрточной нейронной сети:\n",
        "\n",
        "\n",
        "1.   conv2d(channels_input = 4 , channels_output = 4 kernel = ( 7 x 7 ), padding = 3 , stride = ( 3 , 3 ) maxpool\n",
        "     \n",
        "     conv2d(channels_input = 4 , channels_output = 6 kernel = ( 5 x 5 ), padding = 2 , stride = ( 1 , 1 )\n",
        "maxpool\n",
        "\n",
        "1 слой: 7 x 7 x 4 x 4 + 4 = 788\n",
        "    \n",
        "2 слой: 5 x 5 x 4 x 6 + 6 = 606\n",
        "\n",
        "Итого: 788 + 606 = 1394\n",
        "\n",
        "\n",
        "2.   conv2d(channels_input = 4 , channels_output = 4 kernel = ( 9 x 9 ), padding = 4 , stride = ( 2 , 2 ) maxpool\n",
        "     \n",
        "     conv2d(channels_input = 4 , channels_output = 6 kernel = ( 9 x 9 ), padding = 4 , stride = ( 4 , 4 ) maxpool\n",
        "     \n",
        "     conv2d(channels_input = 6 , channels_output = 7 kernel = ( 9 x 9 ), padding = 4 , stride = ( 1 , 1 ) maxpool\n",
        "     \n",
        "     conv2d(channels_input = 7 , channels_output = 8 kernel = ( 5 x 5 ), padding = 2 , stride = ( 2 , 2 ) maxpool\n",
        "\n",
        "1 слой: 9 x 9 x 4 x 4 + 4 = 1300\n",
        "\n",
        "2 слой: 9 x 9 x 4 x 6 + 6 = 1950\n",
        "\n",
        "3 слой: 9 x 9 x 6 x 7 + 7 = 3409\n",
        "\n",
        "4 слой: 5 x 5 x 7 x 8 + 8 = 1408\n",
        "\n",
        "Итого: 1300 + 1950 + 3409 + 1408 = 8067\n",
        "\n",
        "\n"
      ]
    },
    {
      "cell_type": "markdown",
      "metadata": {
        "id": "yGdrzWKf2l2q"
      },
      "source": [
        "## Задание 4\n",
        "\n",
        "\n",
        "\n",
        "*   Построить архитектуру сверточной нейронной сети LeNet для задачи классификации (данные, например, CIFAR10, можно и другие). Обучить модель.\n",
        "*   Построить график ошибок для тестовой выборки для старого LeNet и с\n",
        "разными новыми гиперпараметрами сети. Т.е. добавить ReLu, затем MaxPool, затем 2 свертки (3 x 3) вместо (5 x 5). То есть всего 4 графика на одном полотне.\n",
        "\n",
        "*   Показать результат работы сети после обучения.\n",
        "\n",
        "\n"
      ]
    },
    {
      "cell_type": "code",
      "execution_count": null,
      "metadata": {
        "id": "efVIBwhf2mho"
      },
      "outputs": [],
      "source": [
        "import torch as th\n",
        "import numpy as np\n",
        "import matplotlib.pyplot as plt\n",
        "import torchvision.datasets\n",
        "from torchvision.transforms import Compose, ToTensor, Normalize\n",
        "from tqdm.notebook import tqdm"
      ]
    },
    {
      "cell_type": "code",
      "execution_count": null,
      "metadata": {
        "colab": {
          "base_uri": "https://localhost:8080/"
        },
        "id": "XyRZYwzSzcIo",
        "outputId": "5610eec0-dd59-492d-d9ae-943cb8a4081d"
      },
      "outputs": [
        {
          "output_type": "stream",
          "name": "stdout",
          "text": [
            "Files already downloaded and verified\n",
            "Files already downloaded and verified\n"
          ]
        }
      ],
      "source": [
        "num_epochs = 25\n",
        "batch_size = 100\n",
        "learning_rate = 0.001\n",
        "\n",
        "\n",
        "transform = Compose([ToTensor()])\n",
        "\n",
        "trainset = torchvision.datasets.CIFAR10(root='./data', train=True,\n",
        "                                        download=True, transform=transform)\n",
        "\n",
        "\n",
        "\n",
        "trainloader = th.utils.data.DataLoader(trainset, batch_size=batch_size,\n",
        "                                          shuffle=True, num_workers=2)\n",
        "\n",
        "testset = torchvision.datasets.CIFAR10(root='./data', train=False,\n",
        "                                       download=True, transform=transform)\n",
        "\n",
        "\n",
        "testloader = th.utils.data.DataLoader(testset, batch_size=batch_size,\n",
        "                                         shuffle=True, num_workers=2)\n",
        "\n",
        "classes = ('plane', 'car', 'bird', 'cat',\n",
        "           'deer', 'dog', 'frog', 'horse', 'ship', 'truck')"
      ]
    },
    {
      "cell_type": "code",
      "source": [
        "def check_accuracy(loader, model):\n",
        "    num_correct = 0\n",
        "    num_samples = 0\n",
        "    model.eval()\n",
        "    with th.no_grad():                   # Не производить обратного подсчёта градиента, чтобы сеть не училась в процессе проверки\n",
        "        for data, targets in loader:\n",
        "            data = data.to(device)          # Перевод данных на ранее объявленное железо для просчёта всех вычислений\n",
        "            targets = targets.to(device)    # Перевод целевых данных на карту\n",
        "            preds = model(data)            # Прямое распространение информации по сети\n",
        "            _, predictions = preds.max(1)  # Возвращаем позицию наибольшего выхода из сети\n",
        "            num_correct += (predictions == targets).sum()       # Считаем количество правильных ответов\n",
        "            num_samples += predictions.size(0)                  # Количество исходных данных\n",
        "    model.train()\n",
        "    return (int(num_correct) / int(num_samples))"
      ],
      "metadata": {
        "id": "HnAb93L8OEEu"
      },
      "execution_count": null,
      "outputs": []
    },
    {
      "cell_type": "markdown",
      "source": [
        "# LeNet v1"
      ],
      "metadata": {
        "id": "kbteXuoOc8NC"
      }
    },
    {
      "cell_type": "code",
      "execution_count": null,
      "metadata": {
        "id": "q-8VcsIm4sMi"
      },
      "outputs": [],
      "source": [
        "class LeNet_v1(th.nn.Module):\n",
        "  def __init__(self):\n",
        "    super(LeNet_v1, self).__init__()\n",
        "\n",
        "    # conv ch_in: 3, ch_out: 6, kernel: (5 x 5), padding (2 x 2) stride (1 x 1)\n",
        "    self.conv1 = th.nn.Conv2d(in_channels=3 , out_channels=6 , kernel_size=(5, 5),\n",
        "                              stride=(1, 1))\n",
        "\n",
        "    # Tanh\n",
        "    self.act = th.nn.Tanh()\n",
        "\n",
        "    # conv ch_in: 3, ch_out: 6, kernel: (5 x 5), padding (2 x 2) stride (1 x 1)\n",
        "    self.conv2 = th.nn.Conv2d(in_channels=6 , out_channels=16 , kernel_size=(5, 5),\n",
        "                              stride=(1, 1))\n",
        "\n",
        "    # conv\n",
        "    self.conv3 = th.nn.Conv2d(in_channels=16 , out_channels=120 , kernel_size=(5, 5),\n",
        "                              stride=(1, 1))\n",
        "\n",
        "    # AVGpool\n",
        "    self.pool = th.nn.AvgPool2d(kernel_size=(2, 2), stride=(2, 2))\n",
        "\n",
        "    # linear\n",
        "    self.fc1 = th.nn.Linear(120, 84)\n",
        "    self.fc2 = th.nn.Linear(84, 10)\n",
        "\n",
        "    # softmax\n",
        "    self.sm = th.nn.Softmax(dim=1)\n",
        "\n",
        "  def forward(self, x):\n",
        "    x = self.conv1(x)\n",
        "    x = self.act(x)\n",
        "    x = self.pool(x)\n",
        "\n",
        "    x = self.conv2(x)\n",
        "    x = self.act(x)\n",
        "    x = self.pool(x)\n",
        "\n",
        "    x = self.conv3(x)\n",
        "    x = self.act(x)\n",
        "    x = th.flatten(x, 1)\n",
        "\n",
        "    x = self.fc1(x)\n",
        "    x = self.act(x)\n",
        "\n",
        "    x = self.fc2(x)\n",
        "    return x\n",
        "\n",
        "  def predict(self, x):\n",
        "    with th.no_grad():\n",
        "      x = self.forward(x)\n",
        "      x = x.reshape(1, -1)\n",
        "      x = self.sm(x)\n",
        "    return x\n",
        "\n",
        "net = LeNet_v1()"
      ]
    },
    {
      "cell_type": "code",
      "source": [
        "device = th.device('cuda:0' if th.cuda.is_available() else 'cpu')\n",
        "\n",
        "# перекладываем сеть на GPU\n",
        "net = net.to(device)"
      ],
      "metadata": {
        "id": "ZQuVmWwM4oW9"
      },
      "execution_count": null,
      "outputs": []
    },
    {
      "cell_type": "code",
      "execution_count": null,
      "metadata": {
        "id": "Nlf0fTk68fAX"
      },
      "outputs": [],
      "source": [
        "# функция потерь\n",
        "loss = th.nn.CrossEntropyLoss() # Кросс-энтропия\n",
        "opt = th.optim.Adam(net.parameters(), lr=learning_rate) # #оптимизатор"
      ]
    },
    {
      "cell_type": "code",
      "source": [
        "loss_lst_v1 = []\n",
        "test_loss_lst_v1 = []\n",
        "train_acc_v1 = []\n",
        "test_acc_v1 = []\n",
        "\n",
        "for epoch in tqdm(range(num_epochs)):\n",
        "    losses = [] # список ошибок по эпохам\n",
        "\n",
        "    for batch_id, (data, targets) in enumerate(trainloader):\n",
        "        opt.zero_grad()\n",
        "        # передаем на cudu\n",
        "        data, targets = data.to(device), targets.to(device)\n",
        "\n",
        "        preds = net(data)\n",
        "\n",
        "        loss_value = loss(preds, targets)\n",
        "\n",
        "        losses.append(loss_value.item())\n",
        "\n",
        "        loss_value.backward()\n",
        "        opt.step()\n",
        "\n",
        "    #train loss записываем в список\n",
        "    current_loss = sum(losses) / len(losses)\n",
        "    loss_lst_v1.append(current_loss)\n",
        "\n",
        "\n",
        "    # выводим loss на тестовых данных\n",
        "    net.eval()\n",
        "    with th.no_grad():\n",
        "        testloss = 0\n",
        "        for data, targets in testloader:\n",
        "            data, targets = data.to(device), targets.to(device)\n",
        "            preds = net(data)\n",
        "            lossvalue = loss(preds, targets)\n",
        "            testloss += lossvalue.item()\n",
        "\n",
        "        avg_batch_loss = testloss / len(testloader)\n",
        "        test_loss_lst_v1.append(avg_batch_loss)\n",
        "\n",
        "        # печать на экран train и test loss\n",
        "        print(f\"epoch: {epoch + 1}; train loss: {current_loss}; test_loss: {avg_batch_loss}\")\n",
        "\n",
        "\n",
        "    # заполняем список accuracy\n",
        "    train_acc_v1.append(check_accuracy(trainloader, net))\n",
        "    test_acc_v1.append(check_accuracy(testloader, net))\n"
      ],
      "metadata": {
        "colab": {
          "base_uri": "https://localhost:8080/",
          "height": 552,
          "referenced_widgets": [
            "82208f45047b4a3e9c481dcfc5ead04b",
            "9f1bc6b43eb745f1b823a65d4b4db658",
            "da197b14b52b4d53835a0645cc089cf8",
            "0b16a7466017475eb41987c3bf753895",
            "c6bcf710b21544769cfbb6a49533b946",
            "22ed323079c74395a11b04022c9ac713",
            "da24ad37fae44aca9b3fd323f684fa4e",
            "e7d964b938154a4783120b5f0697636d",
            "33fdf2246f144f2782f7af4e32659d67",
            "14d0ddfbc43a4b17b3f2c04badc43aa1",
            "b6824acc92b9482a8e064292b79bacd7"
          ]
        },
        "id": "bq_4-Uul17EH",
        "outputId": "0a9fc5e1-4035-4b87-94dd-3fcad53acd13"
      },
      "execution_count": null,
      "outputs": [
        {
          "output_type": "display_data",
          "data": {
            "text/plain": [
              "  0%|          | 0/25 [00:00<?, ?it/s]"
            ],
            "application/vnd.jupyter.widget-view+json": {
              "version_major": 2,
              "version_minor": 0,
              "model_id": "82208f45047b4a3e9c481dcfc5ead04b"
            }
          },
          "metadata": {}
        },
        {
          "output_type": "stream",
          "name": "stderr",
          "text": [
            "/usr/lib/python3.10/multiprocessing/popen_fork.py:66: RuntimeWarning: os.fork() was called. os.fork() is incompatible with multithreaded code, and JAX is multithreaded, so this will likely lead to a deadlock.\n",
            "  self.pid = os.fork()\n",
            "/usr/lib/python3.10/multiprocessing/popen_fork.py:66: RuntimeWarning: os.fork() was called. os.fork() is incompatible with multithreaded code, and JAX is multithreaded, so this will likely lead to a deadlock.\n",
            "  self.pid = os.fork()\n"
          ]
        },
        {
          "output_type": "stream",
          "name": "stdout",
          "text": [
            "epoch: 1; train loss: 1.8790293862819671; test_loss: 1.7457855725288391\n",
            "epoch: 2; train loss: 1.6811057946681975; test_loss: 1.6325751006603242\n",
            "epoch: 3; train loss: 1.543810720682144; test_loss: 1.5090951204299927\n",
            "epoch: 4; train loss: 1.4484519827365876; test_loss: 1.425519472360611\n",
            "epoch: 5; train loss: 1.37862171125412; test_loss: 1.386816349029541\n",
            "epoch: 6; train loss: 1.3293757894039153; test_loss: 1.368202360868454\n",
            "epoch: 7; train loss: 1.2834260514974594; test_loss: 1.3367655551433564\n",
            "epoch: 8; train loss: 1.2472331674098969; test_loss: 1.3333139729499817\n",
            "epoch: 9; train loss: 1.2121718279123306; test_loss: 1.308779811859131\n",
            "epoch: 10; train loss: 1.179666744351387; test_loss: 1.3030769997835159\n",
            "epoch: 11; train loss: 1.1494138445854187; test_loss: 1.2954936772584915\n",
            "epoch: 12; train loss: 1.1251555601358414; test_loss: 1.2993518280982972\n",
            "epoch: 13; train loss: 1.1009040706157684; test_loss: 1.2988699924945832\n",
            "epoch: 14; train loss: 1.0766916946172713; test_loss: 1.314586535692215\n",
            "epoch: 15; train loss: 1.0564022718667985; test_loss: 1.3105257600545883\n",
            "epoch: 16; train loss: 1.0331301016807557; test_loss: 1.293857560157776\n",
            "epoch: 17; train loss: 1.01514728140831; test_loss: 1.309471572637558\n",
            "epoch: 18; train loss: 0.9950582711696625; test_loss: 1.3029362773895263\n",
            "epoch: 19; train loss: 0.9741019030809402; test_loss: 1.346568491458893\n",
            "epoch: 20; train loss: 0.9559427931308746; test_loss: 1.3337807619571687\n",
            "epoch: 21; train loss: 0.9404119995832443; test_loss: 1.329335767030716\n",
            "epoch: 22; train loss: 0.9230816279649734; test_loss: 1.332624009847641\n",
            "epoch: 23; train loss: 0.9063546147346496; test_loss: 1.34676553606987\n",
            "epoch: 24; train loss: 0.8891567624807358; test_loss: 1.3563321697711945\n",
            "epoch: 25; train loss: 0.8735098298788071; test_loss: 1.3694259679317475\n"
          ]
        }
      ]
    },
    {
      "cell_type": "code",
      "execution_count": null,
      "metadata": {
        "id": "lmaPdw-s4sSD",
        "colab": {
          "base_uri": "https://localhost:8080/",
          "height": 495
        },
        "outputId": "c1b71765-b58e-4120-9d2e-932cb31a685f"
      },
      "outputs": [
        {
          "output_type": "display_data",
          "data": {
            "text/plain": [
              "<Figure size 1000x500 with 2 Axes>"
            ],
            "image/png": "[encoded data removed]"
          },
          "metadata": {}
        }
      ],
      "source": [
        "fig, ax = plt.subplots(1, 2, figsize=(10, 5))\n",
        "fig.suptitle('25 epochs')\n",
        "\n",
        "ax[0].plot(np.arange(1, len(loss_lst_v1)+1), loss_lst_v1, color='red', label='train loss')\n",
        "ax[0].plot(np.arange(1, len(loss_lst_v1)+1), test_loss_lst_v1, color='green', label='test loss')\n",
        "ax[0].set_title(\"loss\")\n",
        "ax[0].legend()\n",
        "ax[0].grid()\n",
        "\n",
        "epochs = np.arange(1, len(loss_lst_v1)+1)\n",
        "ax[1].plot(epochs, train_acc_v1, color='red', label='train accuracy')\n",
        "ax[1].plot(epochs, test_acc_v1, color='green', label='test accuracy')\n",
        "ax[1].set_title(\"accuracy\")\n",
        "ax[1].legend()\n",
        "ax[1].grid()"
      ]
    },
    {
      "cell_type": "markdown",
      "source": [
        "# LeNet v2 with ReLu"
      ],
      "metadata": {
        "id": "K67uYkyedLVI"
      }
    },
    {
      "cell_type": "code",
      "source": [
        "class LeNet_v2(th.nn.Module):\n",
        "  def __init__(self):\n",
        "    super(LeNet_v2, self).__init__()\n",
        "\n",
        "    # conv ch_in: 3, ch_out: 6, kernel: (5 x 5), padding (2 x 2) stride (1 x 1)\n",
        "    self.conv1 = th.nn.Conv2d(in_channels=3 , out_channels=6 , kernel_size=(5, 5),\n",
        "                              stride=(1, 1))\n",
        "\n",
        "    # Tanh\n",
        "    self.act = th.nn.ReLU()\n",
        "\n",
        "    # conv ch_in: 3, ch_out: 6, kernel: (5 x 5), padding (2 x 2) stride (1 x 1)\n",
        "    self.conv2 = th.nn.Conv2d(in_channels=6 , out_channels=16 , kernel_size=(5, 5),\n",
        "                              stride=(1, 1))\n",
        "\n",
        "    # conv\n",
        "    self.conv3 = th.nn.Conv2d(in_channels=16 , out_channels=120 , kernel_size=(5, 5),\n",
        "                              stride=(1, 1))\n",
        "\n",
        "    # AVGpool\n",
        "    self.pool = th.nn.AvgPool2d(kernel_size=(2, 2), stride=(2, 2))\n",
        "\n",
        "    # linear\n",
        "    self.fc1 = th.nn.Linear(120, 84)\n",
        "    self.fc2 = th.nn.Linear(84, 10)\n",
        "\n",
        "    # softmax\n",
        "    self.sm = th.nn.Softmax(dim=1)\n",
        "\n",
        "  def forward(self, x):\n",
        "    x = self.conv1(x)\n",
        "    x = self.act(x)\n",
        "    x = self.pool(x)\n",
        "\n",
        "    x = self.conv2(x)\n",
        "    x = self.act(x)\n",
        "    x = self.pool(x)\n",
        "\n",
        "    x = self.conv3(x)\n",
        "    x = self.act(x)\n",
        "    x = th.flatten(x, 1)\n",
        "\n",
        "    x = self.fc1(x)\n",
        "    x = self.act(x)\n",
        "\n",
        "    x = self.fc2(x)\n",
        "    return x\n",
        "\n",
        "  def predict(self, x):\n",
        "    with th.no_grad():\n",
        "      x = self.forward(x)\n",
        "      x = x.reshape(1, -1)\n",
        "      x = self.sm(x)\n",
        "    return x\n",
        "\n",
        "net_v2 = LeNet_v2()"
      ],
      "metadata": {
        "id": "hu0jWUV0dW56"
      },
      "execution_count": null,
      "outputs": []
    },
    {
      "cell_type": "code",
      "source": [
        "device = th.device('cuda:0' if th.cuda.is_available() else 'cpu')\n",
        "\n",
        "# перекладываем сеть на GPU\n",
        "net_v2 = net_v2.to(device)"
      ],
      "metadata": {
        "id": "MbjWucLidXE9"
      },
      "execution_count": null,
      "outputs": []
    },
    {
      "cell_type": "code",
      "source": [
        "# функция потерь\n",
        "loss = th.nn.CrossEntropyLoss() # Кросс-энтропия\n",
        "opt = th.optim.Adam(net_v2.parameters(), lr=learning_rate) # #оптимизатор"
      ],
      "metadata": {
        "id": "SMnCU-SkdXLg"
      },
      "execution_count": null,
      "outputs": []
    },
    {
      "cell_type": "code",
      "source": [
        "loss_lst_v2 = []\n",
        "test_loss_lst_v2 = []\n",
        "train_acc_v2 = []\n",
        "test_acc_v2 = []\n",
        "\n",
        "for epoch in tqdm(range(num_epochs)):\n",
        "    losses = [] # список ошибок по эпохам\n",
        "\n",
        "    for batch_id, (data, targets) in enumerate(trainloader):\n",
        "        opt.zero_grad()\n",
        "        # передаем на cudu\n",
        "        data, targets = data.to(device), targets.to(device)\n",
        "\n",
        "        preds = net_v2(data)\n",
        "\n",
        "        loss_value = loss(preds, targets)\n",
        "\n",
        "        losses.append(loss_value.item())\n",
        "\n",
        "        loss_value.backward()\n",
        "        opt.step()\n",
        "\n",
        "    # train loss записываем в список\n",
        "    current_loss = sum(losses) / len(losses)\n",
        "    loss_lst_v2.append(current_loss)\n",
        "\n",
        "\n",
        "    # test loss\n",
        "    net_v2.eval()\n",
        "    testloss = 0\n",
        "    with th.no_grad():\n",
        "        for data, targets in testloader:\n",
        "            data, targets = data.to(device), targets.to(device)\n",
        "            preds = net_v2(data)\n",
        "            lossvalue = loss(preds, targets)\n",
        "            testloss += lossvalue.item()\n",
        "\n",
        "        avg_batch_loss = testloss / len(testloader)\n",
        "        test_loss_lst_v2.append(avg_batch_loss)\n",
        "\n",
        "        # печать на экран train и test loss\n",
        "        print(f\"epoch: {epoch + 1}; train loss: {current_loss}; test_loss: {avg_batch_loss}\")\n",
        "\n",
        "    # заполняем список accuracy\n",
        "    train_acc_v2.append(check_accuracy(trainloader, net_v2))\n",
        "    test_acc_v2.append(check_accuracy(testloader, net_v2))"
      ],
      "metadata": {
        "colab": {
          "base_uri": "https://localhost:8080/",
          "height": 483,
          "referenced_widgets": [
            "d85e07c79a8b42c79f487ba11b451d7f",
            "136316a892bb4ca2ac6e5f4f54046259",
            "ececcd9f4d6e4a6f9feb27c3bad38ef3",
            "647f6f32200343ae83a972907463cbe3",
            "50f541f856be410298b8c8749e78ab6b",
            "ff8972b9749e4f5897f7d86bcff10f54",
            "f7e5f6effbda4766be059c851eabbe3a",
            "fe2983bdd9be4d3f9de812bbb3aafe8d",
            "9b598411c7a745d79e953c39090afd54",
            "7dc7cab8ec574f4e8edfa460dda63393",
            "1adc1d3eff8e4a7abc105db67a4074a1"
          ]
        },
        "id": "xfrNHJi-emWI",
        "outputId": "42b63ced-5ab4-48fc-d402-79c5263f0b9b"
      },
      "execution_count": null,
      "outputs": [
        {
          "output_type": "display_data",
          "data": {
            "text/plain": [
              "  0%|          | 0/25 [00:00<?, ?it/s]"
            ],
            "application/vnd.jupyter.widget-view+json": {
              "version_major": 2,
              "version_minor": 0,
              "model_id": "d85e07c79a8b42c79f487ba11b451d7f"
            }
          },
          "metadata": {}
        },
        {
          "output_type": "stream",
          "name": "stdout",
          "text": [
            "epoch: 1; train loss: 1.8306110494136811; test_loss: 1.6205846309661864\n",
            "epoch: 2; train loss: 1.5702070667743684; test_loss: 1.5196783220767975\n",
            "epoch: 3; train loss: 1.4764654490947724; test_loss: 1.4621525859832765\n",
            "epoch: 4; train loss: 1.4053022644519806; test_loss: 1.3698965573310853\n",
            "epoch: 5; train loss: 1.3517443742752075; test_loss: 1.3410032391548157\n",
            "epoch: 6; train loss: 1.3068040410280228; test_loss: 1.3286586833000182\n",
            "epoch: 7; train loss: 1.270691251039505; test_loss: 1.2742868232727051\n",
            "epoch: 8; train loss: 1.2313096029758452; test_loss: 1.3204650259017945\n",
            "epoch: 9; train loss: 1.2081233404874803; test_loss: 1.2626759910583496\n",
            "epoch: 10; train loss: 1.1723727703094482; test_loss: 1.2182876068353652\n",
            "epoch: 11; train loss: 1.1476005675792693; test_loss: 1.239176003932953\n",
            "epoch: 12; train loss: 1.1213903195858002; test_loss: 1.2077219706773759\n",
            "epoch: 13; train loss: 1.1002495793104172; test_loss: 1.20921422123909\n",
            "epoch: 14; train loss: 1.0752538625001908; test_loss: 1.2054835593700408\n",
            "epoch: 15; train loss: 1.0519324641227723; test_loss: 1.1863384944200517\n",
            "epoch: 16; train loss: 1.0319491740465163; test_loss: 1.1574189400672912\n",
            "epoch: 17; train loss: 1.0137897197008132; test_loss: 1.1552115273475647\n",
            "epoch: 18; train loss: 0.9962070478200913; test_loss: 1.1412130814790726\n",
            "epoch: 19; train loss: 0.9777336037158966; test_loss: 1.155356051325798\n",
            "epoch: 20; train loss: 0.9656213620901107; test_loss: 1.1400103574991227\n",
            "epoch: 21; train loss: 0.9427285673618316; test_loss: 1.1543194365501404\n",
            "epoch: 22; train loss: 0.9277156754732132; test_loss: 1.1514225506782532\n",
            "epoch: 23; train loss: 0.9095274280309678; test_loss: 1.1346162045001984\n",
            "epoch: 24; train loss: 0.9023584922552109; test_loss: 1.1309722715616226\n",
            "epoch: 25; train loss: 0.8876978458166123; test_loss: 1.1394254165887832\n"
          ]
        }
      ]
    },
    {
      "cell_type": "code",
      "source": [
        "fig, ax = plt.subplots(1, 2, figsize=(10, 5))\n",
        "fig.suptitle('25 epochs')\n",
        "\n",
        "ax[0].plot(np.arange(1, len(loss_lst_v2)+1), loss_lst_v2, color='red', label='train loss')\n",
        "ax[0].plot(np.arange(1, len(loss_lst_v1)+1), test_loss_lst_v2, color='green', label='test loss')\n",
        "ax[0].set_title(\"loss\")\n",
        "ax[0].legend()\n",
        "ax[0].grid()\n",
        "\n",
        "epochs = np.arange(1, len(loss_lst_v2)+1)\n",
        "ax[1].plot(epochs, train_acc_v2, color='red', label='train accuracy')\n",
        "ax[1].plot(epochs, test_acc_v2, color='green', label='test accuracy')\n",
        "ax[1].set_title(\"accuracy\")\n",
        "ax[1].legend()\n",
        "ax[1].grid()"
      ],
      "metadata": {
        "colab": {
          "base_uri": "https://localhost:8080/",
          "height": 495
        },
        "id": "NnVeToJyemcK",
        "outputId": "aaf42216-0c85-4749-878a-43e879aa71b4"
      },
      "execution_count": null,
      "outputs": [
        {
          "output_type": "display_data",
          "data": {
            "text/plain": [
              "<Figure size 1000x500 with 2 Axes>"
            ],
            "image/png": "[encoded data removed]"
          },
          "metadata": {}
        }
      ]
    },
    {
      "cell_type": "markdown",
      "source": [
        "# LeNet v3 with MaxPool\n",
        "\n"
      ],
      "metadata": {
        "id": "bVpiR969dXx_"
      }
    },
    {
      "cell_type": "code",
      "source": [
        "class LeNet_v3(th.nn.Module):\n",
        "  def __init__(self):\n",
        "    super(LeNet_v3, self).__init__()\n",
        "\n",
        "    # conv ch_in: 3, ch_out: 6, kernel: (5 x 5), padding (2 x 2) stride (1 x 1)\n",
        "    self.conv1 = th.nn.Conv2d(in_channels=3 , out_channels=6 , kernel_size=(5, 5),\n",
        "                              stride=(1, 1))\n",
        "\n",
        "    # Tanh\n",
        "    self.act = th.nn.ReLU()\n",
        "\n",
        "    # conv ch_in: 3, ch_out: 6, kernel: (5 x 5), padding (2 x 2) stride (1 x 1)\n",
        "    self.conv2 = th.nn.Conv2d(in_channels=6 , out_channels=16 , kernel_size=(5, 5),\n",
        "                              stride=(1, 1))\n",
        "\n",
        "    # conv\n",
        "    self.conv3 = th.nn.Conv2d(in_channels=16 , out_channels=120 , kernel_size=(5, 5),\n",
        "                              stride=(1, 1))\n",
        "\n",
        "    # AVGpool\n",
        "    self.pool = th.nn.MaxPool2d(kernel_size=(2, 2), stride=(2, 2))\n",
        "\n",
        "    # linear\n",
        "    self.fc1 = th.nn.Linear(120, 84)\n",
        "    self.fc2 = th.nn.Linear(84, 10)\n",
        "\n",
        "    # softmax\n",
        "    self.sm = th.nn.Softmax(dim=1)\n",
        "\n",
        "  def forward(self, x):\n",
        "    x = self.conv1(x)\n",
        "    x = self.act(x)\n",
        "    x = self.pool(x)\n",
        "\n",
        "    x = self.conv2(x)\n",
        "    x = self.act(x)\n",
        "    x = self.pool(x)\n",
        "\n",
        "    x = self.conv3(x)\n",
        "    x = self.act(x)\n",
        "    x = th.flatten(x, 1)\n",
        "\n",
        "    x = self.fc1(x)\n",
        "    x = self.act(x)\n",
        "\n",
        "    x = self.fc2(x)\n",
        "    return x\n",
        "\n",
        "  def predict(self, x):\n",
        "    with th.no_grad():\n",
        "      x = self.forward(x)\n",
        "      x = x.reshape(1, -1)\n",
        "      x = self.sm(x)\n",
        "    return x\n",
        "\n",
        "net_v3 = LeNet_v3()"
      ],
      "metadata": {
        "id": "8dov-3qUdYFr"
      },
      "execution_count": null,
      "outputs": []
    },
    {
      "cell_type": "code",
      "source": [
        "device = th.device('cuda:0' if th.cuda.is_available() else 'cpu')\n",
        "\n",
        "# перекладываем сеть на GPU\n",
        "net_v3 = net_v3.to(device)"
      ],
      "metadata": {
        "id": "dH9K6cUUdYMC"
      },
      "execution_count": null,
      "outputs": []
    },
    {
      "cell_type": "code",
      "source": [
        "# функция потерь\n",
        "loss = th.nn.CrossEntropyLoss() # Кросс-энтропия\n",
        "opt = th.optim.Adam(net_v3.parameters(), lr=learning_rate) # #оптимизатор"
      ],
      "metadata": {
        "id": "VYbo1rQwjkA9"
      },
      "execution_count": null,
      "outputs": []
    },
    {
      "cell_type": "code",
      "source": [
        "loss_lst_v3 = []\n",
        "test_loss_lst_v3 = []\n",
        "train_acc_v3 = []\n",
        "test_acc_v3 = []\n",
        "\n",
        "for epoch in tqdm(range(num_epochs)):\n",
        "    losses = [] # список ошибок по эпохам\n",
        "\n",
        "    for batch_id, (data, targets) in enumerate(trainloader):\n",
        "        opt.zero_grad()\n",
        "        # передаем на cudu\n",
        "        data, targets = data.to(device), targets.to(device)\n",
        "\n",
        "        preds = net_v3(data)\n",
        "\n",
        "        loss_value = loss(preds, targets)\n",
        "\n",
        "        losses.append(loss_value.item())\n",
        "\n",
        "        loss_value.backward()\n",
        "        opt.step()\n",
        "\n",
        "    # train loss записываем в список\n",
        "    current_loss = sum(losses) / len(losses)\n",
        "    loss_lst_v3.append(current_loss)\n",
        "\n",
        "    # test loss\n",
        "    net_v3.eval()\n",
        "    testloss = 0\n",
        "    with th.no_grad():\n",
        "        for data, targets in testloader:\n",
        "            data, targets = data.to(device), targets.to(device)\n",
        "            preds = net_v3(data)\n",
        "            lossvalue = loss(preds, targets)\n",
        "            testloss += lossvalue.item()\n",
        "\n",
        "        avg_batch_loss = testloss / len(testloader)\n",
        "        test_loss_lst_v3.append(avg_batch_loss)\n",
        "\n",
        "        # печать на экран train и test loss\n",
        "        print(f\"epoch: {epoch + 1}; train loss: {current_loss}; test_loss: {avg_batch_loss}\")\n",
        "\n",
        "    # заполняем список accuracy\n",
        "    train_acc_v3.append(check_accuracy(trainloader, net_v3))\n",
        "    test_acc_v3.append(check_accuracy(testloader, net_v3))"
      ],
      "metadata": {
        "colab": {
          "base_uri": "https://localhost:8080/",
          "height": 483,
          "referenced_widgets": [
            "3a9ffb031de4415c8a2a121665add146",
            "1ca65824ad304f06b06541bf42034e5d",
            "68b032b2982e4d098607a8e779affcb6",
            "ae43d647a26c4850884322d51528b8b2",
            "be9d32a2ae8841b692ab3a9d91353e28",
            "d693c658e28f4302b4053ffd1f5aea19",
            "3531bc984a564a75aa437c8467dba74c",
            "6de34a19e2de4b219811f881ae62e16c",
            "735321450d654281bbbf5edad73d2076",
            "4dacf469fe8244c1b4c76af0529f784c",
            "4f8d8236b5ef45ed9943a7b41a2144c7"
          ]
        },
        "id": "66lpdc5pjkTz",
        "outputId": "e9cfb672-4724-427a-c5ac-398afe4873b9"
      },
      "execution_count": null,
      "outputs": [
        {
          "output_type": "display_data",
          "data": {
            "text/plain": [
              "  0%|          | 0/25 [00:00<?, ?it/s]"
            ],
            "application/vnd.jupyter.widget-view+json": {
              "version_major": 2,
              "version_minor": 0,
              "model_id": "3a9ffb031de4415c8a2a121665add146"
            }
          },
          "metadata": {}
        },
        {
          "output_type": "stream",
          "name": "stdout",
          "text": [
            "epoch: 1; train loss: 1.8691397609710694; test_loss: 1.637494113445282\n",
            "epoch: 2; train loss: 1.5742781555652618; test_loss: 1.498007606267929\n",
            "epoch: 3; train loss: 1.4639345541000366; test_loss: 1.4307986211776733\n",
            "epoch: 4; train loss: 1.3754231147766114; test_loss: 1.348577276468277\n",
            "epoch: 5; train loss: 1.3087230060100556; test_loss: 1.3387287211418153\n",
            "epoch: 6; train loss: 1.2487182301282882; test_loss: 1.2700347471237183\n",
            "epoch: 7; train loss: 1.2022704433202744; test_loss: 1.2620815354585648\n",
            "epoch: 8; train loss: 1.1619580259323121; test_loss: 1.2124368786811828\n",
            "epoch: 9; train loss: 1.1245685720443725; test_loss: 1.203143277168274\n",
            "epoch: 10; train loss: 1.0966298135519028; test_loss: 1.1673836922645568\n",
            "epoch: 11; train loss: 1.0698709398508073; test_loss: 1.1448230969905853\n",
            "epoch: 12; train loss: 1.0476750998497009; test_loss: 1.1676135087013244\n",
            "epoch: 13; train loss: 1.0240595366954803; test_loss: 1.1594342809915543\n",
            "epoch: 14; train loss: 1.0070276317596436; test_loss: 1.1384891480207444\n",
            "epoch: 15; train loss: 0.989982085943222; test_loss: 1.1160641765594483\n",
            "epoch: 16; train loss: 0.9718039916753769; test_loss: 1.1255494505167007\n",
            "epoch: 17; train loss: 0.956472261428833; test_loss: 1.1426478517055512\n",
            "epoch: 18; train loss: 0.9399564952850342; test_loss: 1.0917103612422943\n",
            "epoch: 19; train loss: 0.9243389919996262; test_loss: 1.127377297282219\n",
            "epoch: 20; train loss: 0.9154758239984513; test_loss: 1.0968135887384414\n",
            "epoch: 21; train loss: 0.8998174211978912; test_loss: 1.1292237919569015\n",
            "epoch: 22; train loss: 0.8857632175683975; test_loss: 1.0892633467912674\n",
            "epoch: 23; train loss: 0.8739908292293549; test_loss: 1.0977812564373017\n",
            "epoch: 24; train loss: 0.8612680202722549; test_loss: 1.0990467387437821\n",
            "epoch: 25; train loss: 0.8509179667234421; test_loss: 1.110944452881813\n"
          ]
        }
      ]
    },
    {
      "cell_type": "code",
      "source": [
        "fig, ax = plt.subplots(1, 2, figsize=(10, 5))\n",
        "fig.suptitle('25 epochs')\n",
        "\n",
        "ax[0].plot(np.arange(1, len(loss_lst_v3)+1), loss_lst_v3, color='red', label='train loss')\n",
        "ax[0].plot(np.arange(1, len(loss_lst_v3)+1), test_loss_lst_v3, color='green', label='test loss')\n",
        "ax[0].set_title(\"loss\")\n",
        "ax[0].legend()\n",
        "ax[0].grid()\n",
        "\n",
        "epochs = np.arange(1, len(loss_lst_v3)+1)\n",
        "ax[1].plot(epochs, test_acc_v3, color='red', label='test accuracy')\n",
        "ax[1].plot(epochs, train_acc_v3, color='green', label='train accuracy')\n",
        "ax[1].set_title(\"accuracy\")\n",
        "ax[1].legend()\n",
        "ax[1].grid()"
      ],
      "metadata": {
        "colab": {
          "base_uri": "https://localhost:8080/",
          "height": 495
        },
        "id": "IEqi7N4adYTX",
        "outputId": "c4ddbdd1-23ee-4760-d6e9-b2665ec1f3e0"
      },
      "execution_count": null,
      "outputs": [
        {
          "output_type": "display_data",
          "data": {
            "text/plain": [
              "<Figure size 1000x500 with 2 Axes>"
            ],
            "image/png": "[encoded data removed]"
          },
          "metadata": {}
        }
      ]
    },
    {
      "cell_type": "markdown",
      "source": [
        "# LeNet v4 with two 3x3 conv instead of one 5x5"
      ],
      "metadata": {
        "id": "0kETUNSOdYuS"
      }
    },
    {
      "cell_type": "code",
      "source": [
        "class LeNet_v4(th.nn.Module):\n",
        "  def __init__(self):\n",
        "    super(LeNet_v4, self).__init__()\n",
        "\n",
        "    # conv ch_in: 3, ch_out: 6, kernel: (5 x 5), padding (2 x 2) stride (1 x 1)\n",
        "    self.conv1_1 = th.nn.Conv2d(in_channels=3 , out_channels=6 , kernel_size=(3, 3),\n",
        "                              stride=(1, 1))\n",
        "\n",
        "    self.conv1_2 = th.nn.Conv2d(in_channels=6 , out_channels=6 , kernel_size=(3, 3),\n",
        "                              stride=(1, 1))\n",
        "\n",
        "    # Tanh\n",
        "    self.act = th.nn.ReLU()\n",
        "\n",
        "    # conv ch_in: 3, ch_out: 6, kernel: (5 x 5), padding (2 x 2) stride (1 x 1)\n",
        "    self.conv2_1 = th.nn.Conv2d(in_channels=6 , out_channels=16 , kernel_size=(3, 3),\n",
        "                              stride=(1, 1))\n",
        "\n",
        "    self.conv2_2 = th.nn.Conv2d(in_channels=16 , out_channels=16 , kernel_size=(3, 3),\n",
        "                              stride=(1, 1))\n",
        "\n",
        "    # conv\n",
        "    self.conv3 = th.nn.Conv2d(in_channels=16 , out_channels=120 , kernel_size=(5, 5),\n",
        "                              stride=(1, 1))\n",
        "\n",
        "    # AVGpool\n",
        "    self.pool = th.nn.MaxPool2d(kernel_size=(2, 2), stride=(2, 2))\n",
        "\n",
        "    # linear\n",
        "    self.fc1 = th.nn.Linear(120, 84)\n",
        "    self.fc2 = th.nn.Linear(84, 10)\n",
        "\n",
        "    # softmax\n",
        "    self.sm = th.nn.Softmax(dim=1)\n",
        "\n",
        "  def forward(self, x):\n",
        "    x = self.conv1_2(self.conv1_1(x))\n",
        "    x = self.act(x)\n",
        "    x = self.pool(x)\n",
        "\n",
        "    x = self.conv2_2(self.conv2_1(x))\n",
        "    x = self.act(x)\n",
        "    x = self.pool(x)\n",
        "\n",
        "    x = self.conv3(x)\n",
        "    x = self.act(x)\n",
        "    x = th.flatten(x, 1)\n",
        "\n",
        "    x = self.fc1(x)\n",
        "    x = self.act(x)\n",
        "\n",
        "    x = self.fc2(x)\n",
        "    return x\n",
        "\n",
        "  def predict(self, x):\n",
        "    with th.no_grad():\n",
        "      x = self.forward(x)\n",
        "      x = x.reshape(1, -1)\n",
        "      x = self.sm(x)\n",
        "    return x\n",
        "\n",
        "net_v4 = LeNet_v4()"
      ],
      "metadata": {
        "id": "QORvhCLXdY2O"
      },
      "execution_count": null,
      "outputs": []
    },
    {
      "cell_type": "code",
      "source": [
        "device = th.device('cuda:0' if th.cuda.is_available() else 'cpu')\n",
        "\n",
        "# перекладываем сеть на GPU\n",
        "net_v4 = net_v4.to(device)"
      ],
      "metadata": {
        "id": "Hcc5UWUKdY5F"
      },
      "execution_count": null,
      "outputs": []
    },
    {
      "cell_type": "code",
      "source": [
        "# функция потерь\n",
        "loss = th.nn.CrossEntropyLoss() # Кросс-энтропия\n",
        "opt = th.optim.Adam(net_v4.parameters(), lr=learning_rate) # #оптимизатор"
      ],
      "metadata": {
        "id": "A6O_iEoKdZBr"
      },
      "execution_count": null,
      "outputs": []
    },
    {
      "cell_type": "code",
      "source": [
        "loss_lst_v4 = []\n",
        "test_loss_lst_v4 = []\n",
        "train_acc_v4 = []\n",
        "test_acc_v4 = []\n",
        "\n",
        "for epoch in tqdm(range(num_epochs)):\n",
        "    losses = [] # список ошибок по эпохам\n",
        "\n",
        "    for batch_id, (data, targets) in enumerate(trainloader):\n",
        "        opt.zero_grad()\n",
        "        # передаем на cudu\n",
        "        data, targets = data.to(device), targets.to(device)\n",
        "\n",
        "        preds = net_v4(data)\n",
        "\n",
        "        loss_value = loss(preds, targets)\n",
        "\n",
        "        losses.append(loss_value.item())\n",
        "\n",
        "        loss_value.backward()\n",
        "        opt.step()\n",
        "\n",
        "    # train loss записываем в список\n",
        "    current_loss = sum(losses) / len(losses)\n",
        "    loss_lst_v4.append(current_loss)\n",
        "\n",
        "    # test loss\n",
        "    net_v4.eval()\n",
        "    testloss = 0\n",
        "    with th.no_grad():\n",
        "        for data, targets in testloader:\n",
        "            data, targets = data.to(device), targets.to(device)\n",
        "            preds = net_v4(data)\n",
        "            lossvalue = loss(preds, targets)\n",
        "            testloss += lossvalue.item()\n",
        "\n",
        "        avg_batch_loss = testloss / len(testloader)\n",
        "        test_loss_lst_v4.append(avg_batch_loss)\n",
        "\n",
        "        # печать на экран train и test loss\n",
        "        print(f\"epoch: {epoch + 1}; train loss: {current_loss}; test_loss: {avg_batch_loss}\")\n",
        "\n",
        "    # заполняем список accuracy\n",
        "    train_acc_v4.append(check_accuracy(trainloader, net_v4))\n",
        "    test_acc_v4.append(check_accuracy(testloader, net_v4))"
      ],
      "metadata": {
        "id": "RJgZK_8FvVw5",
        "colab": {
          "base_uri": "https://localhost:8080/",
          "height": 552,
          "referenced_widgets": [
            "6247882ee50c44a393b4262b749266ba",
            "ee256e74ddc34f6695f102b2f42714c0",
            "ee6f56fe988040deb2effbe2d06aa4d8",
            "d4ecac79633e4179ad2ce4e4f21ff145",
            "b00ea77e1e7a4bfea295faa785549100",
            "0ea19bb8b4584eb59c4e57e544ac9754",
            "630e202612014a15bc19b77b63dbd7b7",
            "5711a2970e214f55be7aa78fef5f07b6",
            "73318a2b1e0b4cf48ddcc428a4e549a4",
            "720de2df13f24bad8b74f5b0f14e2b24",
            "207f1e97302f4c79ba03018f079249a2"
          ]
        },
        "outputId": "5cf9654b-698d-4743-80cb-a586558a35ce"
      },
      "execution_count": null,
      "outputs": [
        {
          "output_type": "display_data",
          "data": {
            "text/plain": [
              "  0%|          | 0/25 [00:00<?, ?it/s]"
            ],
            "application/vnd.jupyter.widget-view+json": {
              "version_major": 2,
              "version_minor": 0,
              "model_id": "6247882ee50c44a393b4262b749266ba"
            }
          },
          "metadata": {}
        },
        {
          "output_type": "stream",
          "name": "stderr",
          "text": [
            "/usr/lib/python3.10/multiprocessing/popen_fork.py:66: RuntimeWarning: os.fork() was called. os.fork() is incompatible with multithreaded code, and JAX is multithreaded, so this will likely lead to a deadlock.\n",
            "  self.pid = os.fork()\n",
            "/usr/lib/python3.10/multiprocessing/popen_fork.py:66: RuntimeWarning: os.fork() was called. os.fork() is incompatible with multithreaded code, and JAX is multithreaded, so this will likely lead to a deadlock.\n",
            "  self.pid = os.fork()\n"
          ]
        },
        {
          "output_type": "stream",
          "name": "stdout",
          "text": [
            "epoch: 1; train loss: 1.8354874048233032; test_loss: 1.5831721377372743\n",
            "epoch: 2; train loss: 1.4851951146125792; test_loss: 1.4104508757591248\n",
            "epoch: 3; train loss: 1.3703977816104889; test_loss: 1.3213019180297851\n",
            "epoch: 4; train loss: 1.2850558018684388; test_loss: 1.2567783355712892\n",
            "epoch: 5; train loss: 1.217202095389366; test_loss: 1.2209438127279282\n",
            "epoch: 6; train loss: 1.1530017614364625; test_loss: 1.2028697872161864\n",
            "epoch: 7; train loss: 1.1026118530035018; test_loss: 1.1241454112529754\n",
            "epoch: 8; train loss: 1.0497790220975876; test_loss: 1.111783385872841\n",
            "epoch: 9; train loss: 0.9998317484855652; test_loss: 1.0681349271535874\n",
            "epoch: 10; train loss: 0.9607282543182373; test_loss: 1.0563187843561173\n",
            "epoch: 11; train loss: 0.9221165083646774; test_loss: 1.0593682593107223\n",
            "epoch: 12; train loss: 0.8886960334777833; test_loss: 1.0313851314783096\n",
            "epoch: 13; train loss: 0.8607100851535797; test_loss: 1.0200675839185716\n",
            "epoch: 14; train loss: 0.833963339984417; test_loss: 1.0401896703243256\n",
            "epoch: 15; train loss: 0.8086901835203171; test_loss: 1.0354702752828597\n",
            "epoch: 16; train loss: 0.7870001628994941; test_loss: 1.0139084166288377\n",
            "epoch: 17; train loss: 0.7632223861217499; test_loss: 1.0223166966438293\n",
            "epoch: 18; train loss: 0.7501811692714692; test_loss: 1.0317580389976502\n",
            "epoch: 19; train loss: 0.7301139260530471; test_loss: 1.0661956179141998\n",
            "epoch: 20; train loss: 0.7107107111811638; test_loss: 1.058592221736908\n",
            "epoch: 21; train loss: 0.69027610039711; test_loss: 1.0904807943105697\n",
            "epoch: 22; train loss: 0.6770080200433731; test_loss: 1.090822611451149\n",
            "epoch: 23; train loss: 0.6632999776005745; test_loss: 1.0840166807174683\n",
            "epoch: 24; train loss: 0.6416153731942177; test_loss: 1.1048809134960174\n",
            "epoch: 25; train loss: 0.6303027350902557; test_loss: 1.1071353900432586\n"
          ]
        }
      ]
    },
    {
      "cell_type": "code",
      "source": [
        "fig, ax = plt.subplots(1, 2, figsize=(10, 5))\n",
        "fig.suptitle('25 epochs')\n",
        "\n",
        "ax[0].plot(np.arange(1, len(loss_lst_v4)+1), loss_lst_v4, color='red', label='train loss')\n",
        "ax[0].plot(np.arange(1, len(loss_lst_v4)+1), test_loss_lst_v4, color='green', label='test loss')\n",
        "ax[0].set_title(\"loss\")\n",
        "ax[0].legend()\n",
        "ax[0].grid()\n",
        "\n",
        "epochs = np.arange(1, len(loss_lst_v4)+1)\n",
        "ax[1].plot(epochs, train_acc_v4, color='green', label='train accuracy')\n",
        "ax[1].plot(epochs, test_acc_v4, color='red', label='test accuracy')\n",
        "ax[1].set_title(\"accuracy\")\n",
        "ax[1].legend()\n",
        "ax[1].grid()"
      ],
      "metadata": {
        "id": "oDb3_WTFvV2X",
        "colab": {
          "base_uri": "https://localhost:8080/",
          "height": 495
        },
        "outputId": "b4a0d2df-cfe0-4f43-b04d-b8f3a00073ba"
      },
      "execution_count": null,
      "outputs": [
        {
          "output_type": "display_data",
          "data": {
            "text/plain": [
              "<Figure size 1000x500 with 2 Axes>"
            ],
            "image/png": "[encoded data removed]"
          },
          "metadata": {}
        }
      ]
    },
    {
      "cell_type": "markdown",
      "source": [
        "# Сравнение 4 моделей"
      ],
      "metadata": {
        "id": "WouUX6gjTz1u"
      }
    },
    {
      "cell_type": "code",
      "source": [
        "fig, ax = plt.subplots(2, 2, figsize=(12, 12))\n",
        "epochs = np.arange(1, len(loss_lst_v4)+1)\n",
        "\n",
        "ax[0][0].plot(epochs, loss_lst_v1, color='purple', label='v1')\n",
        "ax[0][0].plot(epochs, loss_lst_v2, color='blue', label='v2')\n",
        "ax[0][0].plot(epochs, loss_lst_v3, color='green', label='v3')\n",
        "ax[0][0].plot(epochs, loss_lst_v4, color='red', label='v4')\n",
        "ax[0][0].set_title(\"train losses\")\n",
        "ax[0][0].legend()\n",
        "ax[0][0].grid()\n",
        "\n",
        "\n",
        "ax[0][1].plot(epochs, train_acc_v1, color='purple', label='v1')\n",
        "ax[0][1].plot(epochs, train_acc_v2, color='blue', label='v2')\n",
        "ax[0][1].plot(epochs, train_acc_v3, color='green', label='v3')\n",
        "ax[0][1].plot(epochs, train_acc_v4, color='red', label='v4')\n",
        "ax[0][1].set_title(\"train accuracy\")\n",
        "ax[0][1].legend()\n",
        "ax[0][1].grid()\n",
        "\n",
        "\n",
        "ax[1][0].plot(epochs, test_loss_lst_v1, color='purple', label='v1')\n",
        "ax[1][0].plot(epochs, test_loss_lst_v2, color='blue', label='v2')\n",
        "ax[1][0].plot(epochs, test_loss_lst_v3, color='green', label='v3')\n",
        "ax[1][0].plot(epochs, test_loss_lst_v4, color='red', label='v4')\n",
        "ax[1][0].set_title(\"test loss\")\n",
        "ax[1][0].legend()\n",
        "ax[1][0].grid()\n",
        "\n",
        "\n",
        "ax[1][1].plot(epochs, test_acc_v1, color='purple', label='v1')\n",
        "ax[1][1].plot(epochs, test_acc_v2, color='blue', label='v2')\n",
        "ax[1][1].plot(epochs, test_acc_v3, color='green', label='v3')\n",
        "ax[1][1].plot(epochs, test_acc_v4, color='red', label='v4')\n",
        "ax[1][1].set_title(\"test accuracy\")\n",
        "ax[1][1].legend()\n",
        "ax[1][1].grid()"
      ],
      "metadata": {
        "colab": {
          "base_uri": "https://localhost:8080/",
          "height": 1000
        },
        "id": "ahqW01V-R_oW",
        "outputId": "b1a2b6e4-f2ac-4295-9c28-487439ea2883"
      },
      "execution_count": null,
      "outputs": [
        {
          "output_type": "display_data",
          "data": {
            "text/plain": [
              "<Figure size 1200x1200 with 4 Axes>"
            ],
            "image/png": "[encoded data removed]"
          },
          "metadata": {}
        }
      ]
    },
    {
      "cell_type": "markdown",
      "source": [
        "# Аугментация данных и обучение лучшей вариации LeNet"
      ],
      "metadata": {
        "id": "1CzGN6nDeBMS"
      }
    },
    {
      "cell_type": "code",
      "source": [
        "import torch as th\n",
        "import numpy as np\n",
        "import matplotlib.pyplot as plt\n",
        "import torchvision.datasets as datasets\n",
        "import torch.utils.data as data\n",
        "from torchvision.transforms import Compose, ToTensor, Normalize, RandomHorizontalFlip, ColorJitter, RandomAffine\n",
        "from tqdm.notebook import tqdm"
      ],
      "metadata": {
        "id": "459IHir6d-qZ"
      },
      "execution_count": null,
      "outputs": []
    },
    {
      "cell_type": "code",
      "source": [
        "from torchvision import datasets, transforms\n",
        "\n",
        "transform = transforms.Compose([\n",
        "    transforms.RandomHorizontalFlip(),  # случайное отражение по горизонтали\n",
        "    transforms.RandomRotation(10),  # случайный поворот на угол до 10 градусов\n",
        "    transforms.ColorJitter(brightness=0.2, contrast=0.2, saturation=0.2, hue=0.2),  # изменение яркости, контраста, насыщенности и оттенка\n",
        "    transforms.ToTensor()  # преобразование в тензор\n",
        "])\n",
        "\n",
        "num_epochs = 60\n",
        "batch_size = 100\n",
        "learning_rate = 0.001\n",
        "\n",
        "trainset = torchvision.datasets.CIFAR10(root='./data', train=True,\n",
        "                                        download=True, transform=transform)\n",
        "\n",
        "trainloader = th.utils.data.DataLoader(trainset, batch_size=batch_size,\n",
        "                                       shuffle=True, num_workers=2)\n",
        "\n",
        "testset = torchvision.datasets.CIFAR10(root='./data', train=False,\n",
        "                                       download=True, transform=transform)\n",
        "\n",
        "testloader = th.utils.data.DataLoader(testset, batch_size=batch_size,\n",
        "                                      shuffle=True, num_workers=2)\n",
        "\n",
        "classes = ('plane', 'car', 'bird', 'cat',\n",
        "           'deer', 'dog', 'frog', 'horse', 'ship', 'truck')\n"
      ],
      "metadata": {
        "colab": {
          "base_uri": "https://localhost:8080/"
        },
        "id": "ufGzIWnUgS4T",
        "outputId": "c11475b7-2eb0-4b53-c723-278f47e76d9e"
      },
      "execution_count": null,
      "outputs": [
        {
          "output_type": "stream",
          "name": "stdout",
          "text": [
            "Files already downloaded and verified\n",
            "Files already downloaded and verified\n"
          ]
        }
      ]
    },
    {
      "cell_type": "code",
      "source": [
        "class LeNet_v4_(th.nn.Module):\n",
        "  def __init__(self):\n",
        "    super(LeNet_v4_, self).__init__()\n",
        "\n",
        "    # conv ch_in: 3, ch_out: 6, kernel: (5 x 5), padding (2 x 2) stride (1 x 1)\n",
        "    self.conv1_1 = th.nn.Conv2d(in_channels=3 , out_channels=6 , kernel_size=(3, 3),\n",
        "                              stride=(1, 1))\n",
        "\n",
        "    self.conv1_2 = th.nn.Conv2d(in_channels=6 , out_channels=6 , kernel_size=(3, 3),\n",
        "                              stride=(1, 1))\n",
        "\n",
        "    # Tanh\n",
        "    self.act = th.nn.ReLU()\n",
        "\n",
        "    # conv ch_in: 3, ch_out: 6, kernel: (5 x 5), padding (2 x 2) stride (1 x 1)\n",
        "    self.conv2_1 = th.nn.Conv2d(in_channels=6 , out_channels=16 , kernel_size=(3, 3),\n",
        "                              stride=(1, 1))\n",
        "\n",
        "    self.conv2_2 = th.nn.Conv2d(in_channels=16 , out_channels=16 , kernel_size=(3, 3),\n",
        "                              stride=(1, 1))\n",
        "\n",
        "    # conv\n",
        "    self.conv3 = th.nn.Conv2d(in_channels=16 , out_channels=120 , kernel_size=(5, 5),\n",
        "                              stride=(1, 1))\n",
        "\n",
        "    # AVGpool\n",
        "    self.pool = th.nn.MaxPool2d(kernel_size=(2, 2), stride=(2, 2))\n",
        "\n",
        "    # linear\n",
        "    self.fc1 = th.nn.Linear(120, 84)\n",
        "    self.fc2 = th.nn.Linear(84, 10)\n",
        "\n",
        "    # softmax\n",
        "    self.sm = th.nn.Softmax(dim=1)\n",
        "\n",
        "  def forward(self, x):\n",
        "    x = self.conv1_2(self.conv1_1(x))\n",
        "    x = self.act(x)\n",
        "    x = self.pool(x)\n",
        "\n",
        "    x = self.conv2_2(self.conv2_1(x))\n",
        "    x = self.act(x)\n",
        "    x = self.pool(x)\n",
        "\n",
        "    x = self.conv3(x)\n",
        "    x = self.act(x)\n",
        "    x = th.flatten(x, 1)\n",
        "\n",
        "    x = self.fc1(x)\n",
        "    x = self.act(x)\n",
        "\n",
        "    x = self.fc2(x)\n",
        "    return x\n",
        "\n",
        "  def predict(self, x):\n",
        "    with th.no_grad():\n",
        "      x = self.forward(x)\n",
        "      x = x.reshape(1, -1)\n",
        "      x = self.sm(x)\n",
        "    return x\n",
        "\n",
        "net_v4_ = LeNet_v4_()"
      ],
      "metadata": {
        "id": "gpNTQMz5iRJQ"
      },
      "execution_count": null,
      "outputs": []
    },
    {
      "cell_type": "code",
      "source": [
        "device = th.device('cuda:0' if th.cuda.is_available() else 'cpu')\n",
        "\n",
        "# перекладываем сеть на GPU\n",
        "net_v4_ = net_v4_.to(device)"
      ],
      "metadata": {
        "id": "u0aj3tDklEYN"
      },
      "execution_count": null,
      "outputs": []
    },
    {
      "cell_type": "code",
      "source": [
        "# функция потерь\n",
        "loss = th.nn.CrossEntropyLoss() # Кросс-энтропия\n",
        "opt = th.optim.Adam(net_v4_.parameters(), lr=learning_rate) # #оптимизатор"
      ],
      "metadata": {
        "id": "1vmGgFw3lEgg"
      },
      "execution_count": null,
      "outputs": []
    },
    {
      "cell_type": "code",
      "source": [
        "loss_lst_v5 = []\n",
        "test_loss_lst_v5 = []\n",
        "train_acc_v5 = []\n",
        "test_acc_v5 = []\n",
        "\n",
        "for epoch in tqdm(range(num_epochs)):\n",
        "    losses = [] # список ошибок по эпохам\n",
        "\n",
        "    for batch_id, (data, targets) in enumerate(trainloader):\n",
        "        opt.zero_grad()\n",
        "        # передаем на cudu\n",
        "        data, targets = data.to(device), targets.to(device)\n",
        "\n",
        "        preds = net_v4_(data)\n",
        "\n",
        "        loss_value = loss(preds, targets)\n",
        "\n",
        "        losses.append(loss_value.item())\n",
        "\n",
        "        loss_value.backward()\n",
        "        opt.step()\n",
        "\n",
        "    # train loss записываем в список\n",
        "    current_loss = sum(losses) / len(losses)\n",
        "    loss_lst_v5.append(current_loss)\n",
        "\n",
        "    # test loss\n",
        "    net_v4_.eval()\n",
        "    testloss = 0\n",
        "    with th.no_grad():\n",
        "        for data, targets in testloader:\n",
        "            data, targets = data.to(device), targets.to(device)\n",
        "            preds = net_v4_(data)\n",
        "            lossvalue = loss(preds, targets)\n",
        "            testloss += lossvalue.item()\n",
        "\n",
        "        avg_batch_loss = testloss / len(testloader)\n",
        "        test_loss_lst_v5.append(avg_batch_loss)\n",
        "\n",
        "        # печать на экран train и test loss\n",
        "        print(f\"epoch: {epoch + 1}; train loss: {current_loss}; test_loss: {avg_batch_loss}\")\n",
        "\n",
        "    # заполняем список accuracy\n",
        "    train_acc_v5.append(check_accuracy(trainloader, net_v4_))\n",
        "    test_acc_v5.append(check_accuracy(testloader, net_v4_))"
      ],
      "metadata": {
        "colab": {
          "base_uri": "https://localhost:8080/",
          "height": 1000,
          "referenced_widgets": [
            "aaad35aa62a043acb69c52f6582e6404",
            "8ba43867efab4ee383bf753421e67874",
            "ac5b00eee55d406f8d9c9a9c91851f70",
            "75ed5e93e5ff4612beb6069b09393717",
            "58045f86702c4ec1a04fc0e598dbd373",
            "b38c0a7e3a0140a9a628f1b44d85fef2",
            "a5efcb0ec1bb426a94bc7cc2c8b592f8",
            "509c196243d44d019ac0056d41e857bf",
            "e0214f214ca24dafbd0e89769a43415c",
            "8c28e95cca6744ea942fa0490c890fc4",
            "c884a7a9b6db4da38e95b5c5f3ca1be4"
          ]
        },
        "id": "Iv78z99plMwL",
        "outputId": "970493aa-8c75-4198-a7a9-7b54fa684699"
      },
      "execution_count": null,
      "outputs": [
        {
          "output_type": "display_data",
          "data": {
            "text/plain": [
              "  0%|          | 0/60 [00:00<?, ?it/s]"
            ],
            "application/vnd.jupyter.widget-view+json": {
              "version_major": 2,
              "version_minor": 0,
              "model_id": "aaad35aa62a043acb69c52f6582e6404"
            }
          },
          "metadata": {}
        },
        {
          "output_type": "stream",
          "name": "stdout",
          "text": [
            "epoch: 1; train loss: 1.9917547523975372; test_loss: 1.7745344352722168\n",
            "epoch: 2; train loss: 1.6934175240993499; test_loss: 1.5919307637214661\n",
            "epoch: 3; train loss: 1.5488907964229583; test_loss: 1.4924305033683778\n",
            "epoch: 4; train loss: 1.4714378192424775; test_loss: 1.4508038651943207\n",
            "epoch: 5; train loss: 1.4077831864356996; test_loss: 1.3859452152252196\n",
            "epoch: 6; train loss: 1.3556735062599181; test_loss: 1.347833423614502\n",
            "epoch: 7; train loss: 1.3083860111236572; test_loss: 1.3121013039350509\n",
            "epoch: 8; train loss: 1.2661092278957367; test_loss: 1.2570696699619293\n",
            "epoch: 9; train loss: 1.2434300801753997; test_loss: 1.2418655133247376\n",
            "epoch: 10; train loss: 1.2162722808122635; test_loss: 1.252388687133789\n",
            "epoch: 11; train loss: 1.1855849740505218; test_loss: 1.218179516196251\n",
            "epoch: 12; train loss: 1.1651028909683228; test_loss: 1.2177121257781982\n",
            "epoch: 13; train loss: 1.1453287385702133; test_loss: 1.186960105895996\n",
            "epoch: 14; train loss: 1.1318607214689256; test_loss: 1.1826752763986588\n",
            "epoch: 15; train loss: 1.1091224817037582; test_loss: 1.1552251660823822\n",
            "epoch: 16; train loss: 1.0968284049034118; test_loss: 1.157989597916603\n",
            "epoch: 17; train loss: 1.0839774478673936; test_loss: 1.1343069511651993\n",
            "epoch: 18; train loss: 1.0678930385112761; test_loss: 1.1316275662183761\n",
            "epoch: 19; train loss: 1.0559393764734268; test_loss: 1.104962648153305\n",
            "epoch: 20; train loss: 1.0436053797006608; test_loss: 1.1131943893432616\n",
            "epoch: 21; train loss: 1.0249908339977265; test_loss: 1.0824986743927\n",
            "epoch: 22; train loss: 1.0146855169534683; test_loss: 1.1203830289840697\n",
            "epoch: 23; train loss: 1.0047065618038178; test_loss: 1.0599679958820343\n",
            "epoch: 24; train loss: 0.9885210353136062; test_loss: 1.06958369910717\n",
            "epoch: 25; train loss: 0.9775108766555786; test_loss: 1.0507494139671325\n",
            "epoch: 26; train loss: 0.9661323473453521; test_loss: 1.0417053025960923\n",
            "epoch: 27; train loss: 0.9623151593208313; test_loss: 1.0622917014360427\n",
            "epoch: 28; train loss: 0.9484587063789368; test_loss: 1.0290415519475937\n",
            "epoch: 29; train loss: 0.9427366282939911; test_loss: 1.0293049055337906\n",
            "epoch: 30; train loss: 0.9328666335344314; test_loss: 1.0297595745325088\n",
            "epoch: 31; train loss: 0.9227670937776565; test_loss: 1.013827651143074\n",
            "epoch: 32; train loss: 0.9195479161739349; test_loss: 1.0211683470010757\n",
            "epoch: 33; train loss: 0.9199526584148408; test_loss: 1.038206707239151\n",
            "epoch: 34; train loss: 0.9033538103103638; test_loss: 1.0278411716222764\n",
            "epoch: 35; train loss: 0.8932403379678726; test_loss: 1.0213931179046631\n",
            "epoch: 36; train loss: 0.8892853026390075; test_loss: 0.9950055992603302\n",
            "epoch: 37; train loss: 0.8869207584857941; test_loss: 0.9921523141860962\n",
            "epoch: 38; train loss: 0.8831372660398483; test_loss: 1.001684787273407\n",
            "epoch: 39; train loss: 0.8768181449174881; test_loss: 1.0010520148277282\n",
            "epoch: 40; train loss: 0.8729829503297806; test_loss: 0.9986189705133438\n",
            "epoch: 41; train loss: 0.8688148994445801; test_loss: 0.9986988228559494\n",
            "epoch: 42; train loss: 0.8669802103042602; test_loss: 0.9871116441488266\n",
            "epoch: 43; train loss: 0.859772806763649; test_loss: 0.9724560284614563\n",
            "epoch: 44; train loss: 0.8543223675489425; test_loss: 0.9820486080646514\n",
            "epoch: 45; train loss: 0.8494093143939971; test_loss: 0.9921547496318817\n",
            "epoch: 46; train loss: 0.8496123652458191; test_loss: 0.9928908026218415\n",
            "epoch: 47; train loss: 0.8429421139955521; test_loss: 0.990368167757988\n",
            "epoch: 48; train loss: 0.8403942418694497; test_loss: 0.9861770135164261\n",
            "epoch: 49; train loss: 0.8403319467306137; test_loss: 0.9792526537179946\n",
            "epoch: 50; train loss: 0.8297592700719834; test_loss: 0.9819804561138153\n",
            "epoch: 51; train loss: 0.8234292912483215; test_loss: 0.9655314928293228\n",
            "epoch: 52; train loss: 0.8278173447847367; test_loss: 0.9605281573534011\n",
            "epoch: 53; train loss: 0.8242938009500503; test_loss: 0.9812252587080001\n",
            "epoch: 54; train loss: 0.8254116533994674; test_loss: 0.9703211390972137\n",
            "epoch: 55; train loss: 0.8198126660585403; test_loss: 0.9705053675174713\n",
            "epoch: 56; train loss: 0.8174900374412537; test_loss: 0.9508737832307815\n",
            "epoch: 57; train loss: 0.8139829940795898; test_loss: 0.9584512090682984\n",
            "epoch: 58; train loss: 0.8079409742355347; test_loss: 0.9687233912944794\n",
            "epoch: 59; train loss: 0.808795954465866; test_loss: 0.9613124817609787\n",
            "epoch: 60; train loss: 0.8009413455724717; test_loss: 0.9595171129703521\n"
          ]
        }
      ]
    },
    {
      "cell_type": "code",
      "source": [
        "fig, ax = plt.subplots(1, 2, figsize=(10, 5))\n",
        "fig.suptitle('25 epochs')\n",
        "\n",
        "ax[0].plot(np.arange(1, len(loss_lst_v5)+1), loss_lst_v5, color='red', label='train loss')\n",
        "ax[0].plot(np.arange(1, len(loss_lst_v5)+1), test_loss_lst_v5, color='green', label='test loss')\n",
        "ax[0].set_title(\"loss\")\n",
        "ax[0].legend()\n",
        "ax[0].grid()\n",
        "\n",
        "epochs = np.arange(1, len(loss_lst_v5)+1)\n",
        "ax[1].plot(epochs, train_acc_v5, color='green', label='train accuracy')\n",
        "ax[1].plot(epochs, test_acc_v5, color='red', label='test accuracy')\n",
        "ax[1].set_title(\"accuracy\")\n",
        "ax[1].legend()\n",
        "ax[1].grid()"
      ],
      "metadata": {
        "colab": {
          "base_uri": "https://localhost:8080/"
        },
        "id": "Wp8K6gaKljRf",
        "outputId": "da778c77-3cf5-49b0-895b-f7446e733892"
      },
      "execution_count": null,
      "outputs": [
        {
          "output_type": "display_data",
          "data": {
            "text/plain": [
              "<Figure size 1000x500 with 2 Axes>"
            ],
            "image/png": "[encoded data removed]"
          },
          "metadata": {}
        }
      ]
    },
    {
      "cell_type": "code",
      "source": [],
      "metadata": {
        "id": "UY3K0eC31X-r"
      },
      "execution_count": null,
      "outputs": []
    }
  ],
  "metadata": {
    "colab": {
      "provenance": [],
      "gpuType": "T4",
      "authorship_tag": "ABX9TyOfQNDhXLUbCkQsB3HINBmA",
      "include_colab_link": true
    },
    "kernelspec": {
      "display_name": "Python 3",
      "name": "python3"
    },
    "language_info": {
      "name": "python"
    },
    "accelerator": "GPU",
    "widgets": {
      "application/vnd.jupyter.widget-state+json": {
        "82208f45047b4a3e9c481dcfc5ead04b": {
          "model_module": "@jupyter-widgets/controls",
          "model_name": "HBoxModel",
          "model_module_version": "1.5.0",
          "state": {
            "_dom_classes": [],
            "_model_module": "@jupyter-widgets/controls",
            "_model_module_version": "1.5.0",
            "_model_name": "HBoxModel",
            "_view_count": null,
            "_view_module": "@jupyter-widgets/controls",
            "_view_module_version": "1.5.0",
            "_view_name": "HBoxView",
            "box_style": "",
            "children": [
              "IPY_MODEL_9f1bc6b43eb745f1b823a65d4b4db658",
              "IPY_MODEL_da197b14b52b4d53835a0645cc089cf8",
              "IPY_MODEL_0b16a7466017475eb41987c3bf753895"
            ],
            "layout": "IPY_MODEL_c6bcf710b21544769cfbb6a49533b946"
          }
        },
        "9f1bc6b43eb745f1b823a65d4b4db658": {
          "model_module": "@jupyter-widgets/controls",
          "model_name": "HTMLModel",
          "model_module_version": "1.5.0",
          "state": {
            "_dom_classes": [],
            "_model_module": "@jupyter-widgets/controls",
            "_model_module_version": "1.5.0",
            "_model_name": "HTMLModel",
            "_view_count": null,
            "_view_module": "@jupyter-widgets/controls",
            "_view_module_version": "1.5.0",
            "_view_name": "HTMLView",
            "description": "",
            "description_tooltip": null,
            "layout": "IPY_MODEL_22ed323079c74395a11b04022c9ac713",
            "placeholder": "​",
            "style": "IPY_MODEL_da24ad37fae44aca9b3fd323f684fa4e",
            "value": "100%"
          }
        },
        "da197b14b52b4d53835a0645cc089cf8": {
          "model_module": "@jupyter-widgets/controls",
          "model_name": "FloatProgressModel",
          "model_module_version": "1.5.0",
          "state": {
            "_dom_classes": [],
            "_model_module": "@jupyter-widgets/controls",
            "_model_module_version": "1.5.0",
            "_model_name": "FloatProgressModel",
            "_view_count": null,
            "_view_module": "@jupyter-widgets/controls",
            "_view_module_version": "1.5.0",
            "_view_name": "ProgressView",
            "bar_style": "success",
            "description": "",
            "description_tooltip": null,
            "layout": "IPY_MODEL_e7d964b938154a4783120b5f0697636d",
            "max": 25,
            "min": 0,
            "orientation": "horizontal",
            "style": "IPY_MODEL_33fdf2246f144f2782f7af4e32659d67",
            "value": 25
          }
        },
        "0b16a7466017475eb41987c3bf753895": {
          "model_module": "@jupyter-widgets/controls",
          "model_name": "HTMLModel",
          "model_module_version": "1.5.0",
          "state": {
            "_dom_classes": [],
            "_model_module": "@jupyter-widgets/controls",
            "_model_module_version": "1.5.0",
            "_model_name": "HTMLModel",
            "_view_count": null,
            "_view_module": "@jupyter-widgets/controls",
            "_view_module_version": "1.5.0",
            "_view_name": "HTMLView",
            "description": "",
            "description_tooltip": null,
            "layout": "IPY_MODEL_14d0ddfbc43a4b17b3f2c04badc43aa1",
            "placeholder": "​",
            "style": "IPY_MODEL_b6824acc92b9482a8e064292b79bacd7",
            "value": " 25/25 [08:17&lt;00:00, 19.76s/it]"
          }
        },
        "c6bcf710b21544769cfbb6a49533b946": {
          "model_module": "@jupyter-widgets/base",
          "model_name": "LayoutModel",
          "model_module_version": "1.2.0",
          "state": {
            "_model_module": "@jupyter-widgets/base",
            "_model_module_version": "1.2.0",
            "_model_name": "LayoutModel",
            "_view_count": null,
            "_view_module": "@jupyter-widgets/base",
            "_view_module_version": "1.2.0",
            "_view_name": "LayoutView",
            "align_content": null,
            "align_items": null,
            "align_self": null,
            "border": null,
            "bottom": null,
            "display": null,
            "flex": null,
            "flex_flow": null,
            "grid_area": null,
            "grid_auto_columns": null,
            "grid_auto_flow": null,
            "grid_auto_rows": null,
            "grid_column": null,
            "grid_gap": null,
            "grid_row": null,
            "grid_template_areas": null,
            "grid_template_columns": null,
            "grid_template_rows": null,
            "height": null,
            "justify_content": null,
            "justify_items": null,
            "left": null,
            "margin": null,
            "max_height": null,
            "max_width": null,
            "min_height": null,
            "min_width": null,
            "object_fit": null,
            "object_position": null,
            "order": null,
            "overflow": null,
            "overflow_x": null,
            "overflow_y": null,
            "padding": null,
            "right": null,
            "top": null,
            "visibility": null,
            "width": null
          }
        },
        "22ed323079c74395a11b04022c9ac713": {
          "model_module": "@jupyter-widgets/base",
          "model_name": "LayoutModel",
          "model_module_version": "1.2.0",
          "state": {
            "_model_module": "@jupyter-widgets/base",
            "_model_module_version": "1.2.0",
            "_model_name": "LayoutModel",
            "_view_count": null,
            "_view_module": "@jupyter-widgets/base",
            "_view_module_version": "1.2.0",
            "_view_name": "LayoutView",
            "align_content": null,
            "align_items": null,
            "align_self": null,
            "border": null,
            "bottom": null,
            "display": null,
            "flex": null,
            "flex_flow": null,
            "grid_area": null,
            "grid_auto_columns": null,
            "grid_auto_flow": null,
            "grid_auto_rows": null,
            "grid_column": null,
            "grid_gap": null,
            "grid_row": null,
            "grid_template_areas": null,
            "grid_template_columns": null,
            "grid_template_rows": null,
            "height": null,
            "justify_content": null,
            "justify_items": null,
            "left": null,
            "margin": null,
            "max_height": null,
            "max_width": null,
            "min_height": null,
            "min_width": null,
            "object_fit": null,
            "object_position": null,
            "order": null,
            "overflow": null,
            "overflow_x": null,
            "overflow_y": null,
            "padding": null,
            "right": null,
            "top": null,
            "visibility": null,
            "width": null
          }
        },
        "da24ad37fae44aca9b3fd323f684fa4e": {
          "model_module": "@jupyter-widgets/controls",
          "model_name": "DescriptionStyleModel",
          "model_module_version": "1.5.0",
          "state": {
            "_model_module": "@jupyter-widgets/controls",
            "_model_module_version": "1.5.0",
            "_model_name": "DescriptionStyleModel",
            "_view_count": null,
            "_view_module": "@jupyter-widgets/base",
            "_view_module_version": "1.2.0",
            "_view_name": "StyleView",
            "description_width": ""
          }
        },
        "e7d964b938154a4783120b5f0697636d": {
          "model_module": "@jupyter-widgets/base",
          "model_name": "LayoutModel",
          "model_module_version": "1.2.0",
          "state": {
            "_model_module": "@jupyter-widgets/base",
            "_model_module_version": "1.2.0",
            "_model_name": "LayoutModel",
            "_view_count": null,
            "_view_module": "@jupyter-widgets/base",
            "_view_module_version": "1.2.0",
            "_view_name": "LayoutView",
            "align_content": null,
            "align_items": null,
            "align_self": null,
            "border": null,
            "bottom": null,
            "display": null,
            "flex": null,
            "flex_flow": null,
            "grid_area": null,
            "grid_auto_columns": null,
            "grid_auto_flow": null,
            "grid_auto_rows": null,
            "grid_column": null,
            "grid_gap": null,
            "grid_row": null,
            "grid_template_areas": null,
            "grid_template_columns": null,
            "grid_template_rows": null,
            "height": null,
            "justify_content": null,
            "justify_items": null,
            "left": null,
            "margin": null,
            "max_height": null,
            "max_width": null,
            "min_height": null,
            "min_width": null,
            "object_fit": null,
            "object_position": null,
            "order": null,
            "overflow": null,
            "overflow_x": null,
            "overflow_y": null,
            "padding": null,
            "right": null,
            "top": null,
            "visibility": null,
            "width": null
          }
        },
        "33fdf2246f144f2782f7af4e32659d67": {
          "model_module": "@jupyter-widgets/controls",
          "model_name": "ProgressStyleModel",
          "model_module_version": "1.5.0",
          "state": {
            "_model_module": "@jupyter-widgets/controls",
            "_model_module_version": "1.5.0",
            "_model_name": "ProgressStyleModel",
            "_view_count": null,
            "_view_module": "@jupyter-widgets/base",
            "_view_module_version": "1.2.0",
            "_view_name": "StyleView",
            "bar_color": null,
            "description_width": ""
          }
        },
        "14d0ddfbc43a4b17b3f2c04badc43aa1": {
          "model_module": "@jupyter-widgets/base",
          "model_name": "LayoutModel",
          "model_module_version": "1.2.0",
          "state": {
            "_model_module": "@jupyter-widgets/base",
            "_model_module_version": "1.2.0",
            "_model_name": "LayoutModel",
            "_view_count": null,
            "_view_module": "@jupyter-widgets/base",
            "_view_module_version": "1.2.0",
            "_view_name": "LayoutView",
            "align_content": null,
            "align_items": null,
            "align_self": null,
            "border": null,
            "bottom": null,
            "display": null,
            "flex": null,
            "flex_flow": null,
            "grid_area": null,
            "grid_auto_columns": null,
            "grid_auto_flow": null,
            "grid_auto_rows": null,
            "grid_column": null,
            "grid_gap": null,
            "grid_row": null,
            "grid_template_areas": null,
            "grid_template_columns": null,
            "grid_template_rows": null,
            "height": null,
            "justify_content": null,
            "justify_items": null,
            "left": null,
            "margin": null,
            "max_height": null,
            "max_width": null,
            "min_height": null,
            "min_width": null,
            "object_fit": null,
            "object_position": null,
            "order": null,
            "overflow": null,
            "overflow_x": null,
            "overflow_y": null,
            "padding": null,
            "right": null,
            "top": null,
            "visibility": null,
            "width": null
          }
        },
        "b6824acc92b9482a8e064292b79bacd7": {
          "model_module": "@jupyter-widgets/controls",
          "model_name": "DescriptionStyleModel",
          "model_module_version": "1.5.0",
          "state": {
            "_model_module": "@jupyter-widgets/controls",
            "_model_module_version": "1.5.0",
            "_model_name": "DescriptionStyleModel",
            "_view_count": null,
            "_view_module": "@jupyter-widgets/base",
            "_view_module_version": "1.2.0",
            "_view_name": "StyleView",
            "description_width": ""
          }
        },
        "d85e07c79a8b42c79f487ba11b451d7f": {
          "model_module": "@jupyter-widgets/controls",
          "model_name": "HBoxModel",
          "model_module_version": "1.5.0",
          "state": {
            "_dom_classes": [],
            "_model_module": "@jupyter-widgets/controls",
            "_model_module_version": "1.5.0",
            "_model_name": "HBoxModel",
            "_view_count": null,
            "_view_module": "@jupyter-widgets/controls",
            "_view_module_version": "1.5.0",
            "_view_name": "HBoxView",
            "box_style": "",
            "children": [
              "IPY_MODEL_136316a892bb4ca2ac6e5f4f54046259",
              "IPY_MODEL_ececcd9f4d6e4a6f9feb27c3bad38ef3",
              "IPY_MODEL_647f6f32200343ae83a972907463cbe3"
            ],
            "layout": "IPY_MODEL_50f541f856be410298b8c8749e78ab6b"
          }
        },
        "136316a892bb4ca2ac6e5f4f54046259": {
          "model_module": "@jupyter-widgets/controls",
          "model_name": "HTMLModel",
          "model_module_version": "1.5.0",
          "state": {
            "_dom_classes": [],
            "_model_module": "@jupyter-widgets/controls",
            "_model_module_version": "1.5.0",
            "_model_name": "HTMLModel",
            "_view_count": null,
            "_view_module": "@jupyter-widgets/controls",
            "_view_module_version": "1.5.0",
            "_view_name": "HTMLView",
            "description": "",
            "description_tooltip": null,
            "layout": "IPY_MODEL_ff8972b9749e4f5897f7d86bcff10f54",
            "placeholder": "​",
            "style": "IPY_MODEL_f7e5f6effbda4766be059c851eabbe3a",
            "value": "100%"
          }
        },
        "ececcd9f4d6e4a6f9feb27c3bad38ef3": {
          "model_module": "@jupyter-widgets/controls",
          "model_name": "FloatProgressModel",
          "model_module_version": "1.5.0",
          "state": {
            "_dom_classes": [],
            "_model_module": "@jupyter-widgets/controls",
            "_model_module_version": "1.5.0",
            "_model_name": "FloatProgressModel",
            "_view_count": null,
            "_view_module": "@jupyter-widgets/controls",
            "_view_module_version": "1.5.0",
            "_view_name": "ProgressView",
            "bar_style": "success",
            "description": "",
            "description_tooltip": null,
            "layout": "IPY_MODEL_fe2983bdd9be4d3f9de812bbb3aafe8d",
            "max": 25,
            "min": 0,
            "orientation": "horizontal",
            "style": "IPY_MODEL_9b598411c7a745d79e953c39090afd54",
            "value": 25
          }
        },
        "647f6f32200343ae83a972907463cbe3": {
          "model_module": "@jupyter-widgets/controls",
          "model_name": "HTMLModel",
          "model_module_version": "1.5.0",
          "state": {
            "_dom_classes": [],
            "_model_module": "@jupyter-widgets/controls",
            "_model_module_version": "1.5.0",
            "_model_name": "HTMLModel",
            "_view_count": null,
            "_view_module": "@jupyter-widgets/controls",
            "_view_module_version": "1.5.0",
            "_view_name": "HTMLView",
            "description": "",
            "description_tooltip": null,
            "layout": "IPY_MODEL_7dc7cab8ec574f4e8edfa460dda63393",
            "placeholder": "​",
            "style": "IPY_MODEL_1adc1d3eff8e4a7abc105db67a4074a1",
            "value": " 25/25 [08:20&lt;00:00, 19.74s/it]"
          }
        },
        "50f541f856be410298b8c8749e78ab6b": {
          "model_module": "@jupyter-widgets/base",
          "model_name": "LayoutModel",
          "model_module_version": "1.2.0",
          "state": {
            "_model_module": "@jupyter-widgets/base",
            "_model_module_version": "1.2.0",
            "_model_name": "LayoutModel",
            "_view_count": null,
            "_view_module": "@jupyter-widgets/base",
            "_view_module_version": "1.2.0",
            "_view_name": "LayoutView",
            "align_content": null,
            "align_items": null,
            "align_self": null,
            "border": null,
            "bottom": null,
            "display": null,
            "flex": null,
            "flex_flow": null,
            "grid_area": null,
            "grid_auto_columns": null,
            "grid_auto_flow": null,
            "grid_auto_rows": null,
            "grid_column": null,
            "grid_gap": null,
            "grid_row": null,
            "grid_template_areas": null,
            "grid_template_columns": null,
            "grid_template_rows": null,
            "height": null,
            "justify_content": null,
            "justify_items": null,
            "left": null,
            "margin": null,
            "max_height": null,
            "max_width": null,
            "min_height": null,
            "min_width": null,
            "object_fit": null,
            "object_position": null,
            "order": null,
            "overflow": null,
            "overflow_x": null,
            "overflow_y": null,
            "padding": null,
            "right": null,
            "top": null,
            "visibility": null,
            "width": null
          }
        },
        "ff8972b9749e4f5897f7d86bcff10f54": {
          "model_module": "@jupyter-widgets/base",
          "model_name": "LayoutModel",
          "model_module_version": "1.2.0",
          "state": {
            "_model_module": "@jupyter-widgets/base",
            "_model_module_version": "1.2.0",
            "_model_name": "LayoutModel",
            "_view_count": null,
            "_view_module": "@jupyter-widgets/base",
            "_view_module_version": "1.2.0",
            "_view_name": "LayoutView",
            "align_content": null,
            "align_items": null,
            "align_self": null,
            "border": null,
            "bottom": null,
            "display": null,
            "flex": null,
            "flex_flow": null,
            "grid_area": null,
            "grid_auto_columns": null,
            "grid_auto_flow": null,
            "grid_auto_rows": null,
            "grid_column": null,
            "grid_gap": null,
            "grid_row": null,
            "grid_template_areas": null,
            "grid_template_columns": null,
            "grid_template_rows": null,
            "height": null,
            "justify_content": null,
            "justify_items": null,
            "left": null,
            "margin": null,
            "max_height": null,
            "max_width": null,
            "min_height": null,
            "min_width": null,
            "object_fit": null,
            "object_position": null,
            "order": null,
            "overflow": null,
            "overflow_x": null,
            "overflow_y": null,
            "padding": null,
            "right": null,
            "top": null,
            "visibility": null,
            "width": null
          }
        },
        "f7e5f6effbda4766be059c851eabbe3a": {
          "model_module": "@jupyter-widgets/controls",
          "model_name": "DescriptionStyleModel",
          "model_module_version": "1.5.0",
          "state": {
            "_model_module": "@jupyter-widgets/controls",
            "_model_module_version": "1.5.0",
            "_model_name": "DescriptionStyleModel",
            "_view_count": null,
            "_view_module": "@jupyter-widgets/base",
            "_view_module_version": "1.2.0",
            "_view_name": "StyleView",
            "description_width": ""
          }
        },
        "fe2983bdd9be4d3f9de812bbb3aafe8d": {
          "model_module": "@jupyter-widgets/base",
          "model_name": "LayoutModel",
          "model_module_version": "1.2.0",
          "state": {
            "_model_module": "@jupyter-widgets/base",
            "_model_module_version": "1.2.0",
            "_model_name": "LayoutModel",
            "_view_count": null,
            "_view_module": "@jupyter-widgets/base",
            "_view_module_version": "1.2.0",
            "_view_name": "LayoutView",
            "align_content": null,
            "align_items": null,
            "align_self": null,
            "border": null,
            "bottom": null,
            "display": null,
            "flex": null,
            "flex_flow": null,
            "grid_area": null,
            "grid_auto_columns": null,
            "grid_auto_flow": null,
            "grid_auto_rows": null,
            "grid_column": null,
            "grid_gap": null,
            "grid_row": null,
            "grid_template_areas": null,
            "grid_template_columns": null,
            "grid_template_rows": null,
            "height": null,
            "justify_content": null,
            "justify_items": null,
            "left": null,
            "margin": null,
            "max_height": null,
            "max_width": null,
            "min_height": null,
            "min_width": null,
            "object_fit": null,
            "object_position": null,
            "order": null,
            "overflow": null,
            "overflow_x": null,
            "overflow_y": null,
            "padding": null,
            "right": null,
            "top": null,
            "visibility": null,
            "width": null
          }
        },
        "9b598411c7a745d79e953c39090afd54": {
          "model_module": "@jupyter-widgets/controls",
          "model_name": "ProgressStyleModel",
          "model_module_version": "1.5.0",
          "state": {
            "_model_module": "@jupyter-widgets/controls",
            "_model_module_version": "1.5.0",
            "_model_name": "ProgressStyleModel",
            "_view_count": null,
            "_view_module": "@jupyter-widgets/base",
            "_view_module_version": "1.2.0",
            "_view_name": "StyleView",
            "bar_color": null,
            "description_width": ""
          }
        },
        "7dc7cab8ec574f4e8edfa460dda63393": {
          "model_module": "@jupyter-widgets/base",
          "model_name": "LayoutModel",
          "model_module_version": "1.2.0",
          "state": {
            "_model_module": "@jupyter-widgets/base",
            "_model_module_version": "1.2.0",
            "_model_name": "LayoutModel",
            "_view_count": null,
            "_view_module": "@jupyter-widgets/base",
            "_view_module_version": "1.2.0",
            "_view_name": "LayoutView",
            "align_content": null,
            "align_items": null,
            "align_self": null,
            "border": null,
            "bottom": null,
            "display": null,
            "flex": null,
            "flex_flow": null,
            "grid_area": null,
            "grid_auto_columns": null,
            "grid_auto_flow": null,
            "grid_auto_rows": null,
            "grid_column": null,
            "grid_gap": null,
            "grid_row": null,
            "grid_template_areas": null,
            "grid_template_columns": null,
            "grid_template_rows": null,
            "height": null,
            "justify_content": null,
            "justify_items": null,
            "left": null,
            "margin": null,
            "max_height": null,
            "max_width": null,
            "min_height": null,
            "min_width": null,
            "object_fit": null,
            "object_position": null,
            "order": null,
            "overflow": null,
            "overflow_x": null,
            "overflow_y": null,
            "padding": null,
            "right": null,
            "top": null,
            "visibility": null,
            "width": null
          }
        },
        "1adc1d3eff8e4a7abc105db67a4074a1": {
          "model_module": "@jupyter-widgets/controls",
          "model_name": "DescriptionStyleModel",
          "model_module_version": "1.5.0",
          "state": {
            "_model_module": "@jupyter-widgets/controls",
            "_model_module_version": "1.5.0",
            "_model_name": "DescriptionStyleModel",
            "_view_count": null,
            "_view_module": "@jupyter-widgets/base",
            "_view_module_version": "1.2.0",
            "_view_name": "StyleView",
            "description_width": ""
          }
        },
        "3a9ffb031de4415c8a2a121665add146": {
          "model_module": "@jupyter-widgets/controls",
          "model_name": "HBoxModel",
          "model_module_version": "1.5.0",
          "state": {
            "_dom_classes": [],
            "_model_module": "@jupyter-widgets/controls",
            "_model_module_version": "1.5.0",
            "_model_name": "HBoxModel",
            "_view_count": null,
            "_view_module": "@jupyter-widgets/controls",
            "_view_module_version": "1.5.0",
            "_view_name": "HBoxView",
            "box_style": "",
            "children": [
              "IPY_MODEL_1ca65824ad304f06b06541bf42034e5d",
              "IPY_MODEL_68b032b2982e4d098607a8e779affcb6",
              "IPY_MODEL_ae43d647a26c4850884322d51528b8b2"
            ],
            "layout": "IPY_MODEL_be9d32a2ae8841b692ab3a9d91353e28"
          }
        },
        "1ca65824ad304f06b06541bf42034e5d": {
          "model_module": "@jupyter-widgets/controls",
          "model_name": "HTMLModel",
          "model_module_version": "1.5.0",
          "state": {
            "_dom_classes": [],
            "_model_module": "@jupyter-widgets/controls",
            "_model_module_version": "1.5.0",
            "_model_name": "HTMLModel",
            "_view_count": null,
            "_view_module": "@jupyter-widgets/controls",
            "_view_module_version": "1.5.0",
            "_view_name": "HTMLView",
            "description": "",
            "description_tooltip": null,
            "layout": "IPY_MODEL_d693c658e28f4302b4053ffd1f5aea19",
            "placeholder": "​",
            "style": "IPY_MODEL_3531bc984a564a75aa437c8467dba74c",
            "value": "100%"
          }
        },
        "68b032b2982e4d098607a8e779affcb6": {
          "model_module": "@jupyter-widgets/controls",
          "model_name": "FloatProgressModel",
          "model_module_version": "1.5.0",
          "state": {
            "_dom_classes": [],
            "_model_module": "@jupyter-widgets/controls",
            "_model_module_version": "1.5.0",
            "_model_name": "FloatProgressModel",
            "_view_count": null,
            "_view_module": "@jupyter-widgets/controls",
            "_view_module_version": "1.5.0",
            "_view_name": "ProgressView",
            "bar_style": "success",
            "description": "",
            "description_tooltip": null,
            "layout": "IPY_MODEL_6de34a19e2de4b219811f881ae62e16c",
            "max": 25,
            "min": 0,
            "orientation": "horizontal",
            "style": "IPY_MODEL_735321450d654281bbbf5edad73d2076",
            "value": 25
          }
        },
        "ae43d647a26c4850884322d51528b8b2": {
          "model_module": "@jupyter-widgets/controls",
          "model_name": "HTMLModel",
          "model_module_version": "1.5.0",
          "state": {
            "_dom_classes": [],
            "_model_module": "@jupyter-widgets/controls",
            "_model_module_version": "1.5.0",
            "_model_name": "HTMLModel",
            "_view_count": null,
            "_view_module": "@jupyter-widgets/controls",
            "_view_module_version": "1.5.0",
            "_view_name": "HTMLView",
            "description": "",
            "description_tooltip": null,
            "layout": "IPY_MODEL_4dacf469fe8244c1b4c76af0529f784c",
            "placeholder": "​",
            "style": "IPY_MODEL_4f8d8236b5ef45ed9943a7b41a2144c7",
            "value": " 25/25 [08:40&lt;00:00, 20.26s/it]"
          }
        },
        "be9d32a2ae8841b692ab3a9d91353e28": {
          "model_module": "@jupyter-widgets/base",
          "model_name": "LayoutModel",
          "model_module_version": "1.2.0",
          "state": {
            "_model_module": "@jupyter-widgets/base",
            "_model_module_version": "1.2.0",
            "_model_name": "LayoutModel",
            "_view_count": null,
            "_view_module": "@jupyter-widgets/base",
            "_view_module_version": "1.2.0",
            "_view_name": "LayoutView",
            "align_content": null,
            "align_items": null,
            "align_self": null,
            "border": null,
            "bottom": null,
            "display": null,
            "flex": null,
            "flex_flow": null,
            "grid_area": null,
            "grid_auto_columns": null,
            "grid_auto_flow": null,
            "grid_auto_rows": null,
            "grid_column": null,
            "grid_gap": null,
            "grid_row": null,
            "grid_template_areas": null,
            "grid_template_columns": null,
            "grid_template_rows": null,
            "height": null,
            "justify_content": null,
            "justify_items": null,
            "left": null,
            "margin": null,
            "max_height": null,
            "max_width": null,
            "min_height": null,
            "min_width": null,
            "object_fit": null,
            "object_position": null,
            "order": null,
            "overflow": null,
            "overflow_x": null,
            "overflow_y": null,
            "padding": null,
            "right": null,
            "top": null,
            "visibility": null,
            "width": null
          }
        },
        "d693c658e28f4302b4053ffd1f5aea19": {
          "model_module": "@jupyter-widgets/base",
          "model_name": "LayoutModel",
          "model_module_version": "1.2.0",
          "state": {
            "_model_module": "@jupyter-widgets/base",
            "_model_module_version": "1.2.0",
            "_model_name": "LayoutModel",
            "_view_count": null,
            "_view_module": "@jupyter-widgets/base",
            "_view_module_version": "1.2.0",
            "_view_name": "LayoutView",
            "align_content": null,
            "align_items": null,
            "align_self": null,
            "border": null,
            "bottom": null,
            "display": null,
            "flex": null,
            "flex_flow": null,
            "grid_area": null,
            "grid_auto_columns": null,
            "grid_auto_flow": null,
            "grid_auto_rows": null,
            "grid_column": null,
            "grid_gap": null,
            "grid_row": null,
            "grid_template_areas": null,
            "grid_template_columns": null,
            "grid_template_rows": null,
            "height": null,
            "justify_content": null,
            "justify_items": null,
            "left": null,
            "margin": null,
            "max_height": null,
            "max_width": null,
            "min_height": null,
            "min_width": null,
            "object_fit": null,
            "object_position": null,
            "order": null,
            "overflow": null,
            "overflow_x": null,
            "overflow_y": null,
            "padding": null,
            "right": null,
            "top": null,
            "visibility": null,
            "width": null
          }
        },
        "3531bc984a564a75aa437c8467dba74c": {
          "model_module": "@jupyter-widgets/controls",
          "model_name": "DescriptionStyleModel",
          "model_module_version": "1.5.0",
          "state": {
            "_model_module": "@jupyter-widgets/controls",
            "_model_module_version": "1.5.0",
            "_model_name": "DescriptionStyleModel",
            "_view_count": null,
            "_view_module": "@jupyter-widgets/base",
            "_view_module_version": "1.2.0",
            "_view_name": "StyleView",
            "description_width": ""
          }
        },
        "6de34a19e2de4b219811f881ae62e16c": {
          "model_module": "@jupyter-widgets/base",
          "model_name": "LayoutModel",
          "model_module_version": "1.2.0",
          "state": {
            "_model_module": "@jupyter-widgets/base",
            "_model_module_version": "1.2.0",
            "_model_name": "LayoutModel",
            "_view_count": null,
            "_view_module": "@jupyter-widgets/base",
            "_view_module_version": "1.2.0",
            "_view_name": "LayoutView",
            "align_content": null,
            "align_items": null,
            "align_self": null,
            "border": null,
            "bottom": null,
            "display": null,
            "flex": null,
            "flex_flow": null,
            "grid_area": null,
            "grid_auto_columns": null,
            "grid_auto_flow": null,
            "grid_auto_rows": null,
            "grid_column": null,
            "grid_gap": null,
            "grid_row": null,
            "grid_template_areas": null,
            "grid_template_columns": null,
            "grid_template_rows": null,
            "height": null,
            "justify_content": null,
            "justify_items": null,
            "left": null,
            "margin": null,
            "max_height": null,
            "max_width": null,
            "min_height": null,
            "min_width": null,
            "object_fit": null,
            "object_position": null,
            "order": null,
            "overflow": null,
            "overflow_x": null,
            "overflow_y": null,
            "padding": null,
            "right": null,
            "top": null,
            "visibility": null,
            "width": null
          }
        },
        "735321450d654281bbbf5edad73d2076": {
          "model_module": "@jupyter-widgets/controls",
          "model_name": "ProgressStyleModel",
          "model_module_version": "1.5.0",
          "state": {
            "_model_module": "@jupyter-widgets/controls",
            "_model_module_version": "1.5.0",
            "_model_name": "ProgressStyleModel",
            "_view_count": null,
            "_view_module": "@jupyter-widgets/base",
            "_view_module_version": "1.2.0",
            "_view_name": "StyleView",
            "bar_color": null,
            "description_width": ""
          }
        },
        "4dacf469fe8244c1b4c76af0529f784c": {
          "model_module": "@jupyter-widgets/base",
          "model_name": "LayoutModel",
          "model_module_version": "1.2.0",
          "state": {
            "_model_module": "@jupyter-widgets/base",
            "_model_module_version": "1.2.0",
            "_model_name": "LayoutModel",
            "_view_count": null,
            "_view_module": "@jupyter-widgets/base",
            "_view_module_version": "1.2.0",
            "_view_name": "LayoutView",
            "align_content": null,
            "align_items": null,
            "align_self": null,
            "border": null,
            "bottom": null,
            "display": null,
            "flex": null,
            "flex_flow": null,
            "grid_area": null,
            "grid_auto_columns": null,
            "grid_auto_flow": null,
            "grid_auto_rows": null,
            "grid_column": null,
            "grid_gap": null,
            "grid_row": null,
            "grid_template_areas": null,
            "grid_template_columns": null,
            "grid_template_rows": null,
            "height": null,
            "justify_content": null,
            "justify_items": null,
            "left": null,
            "margin": null,
            "max_height": null,
            "max_width": null,
            "min_height": null,
            "min_width": null,
            "object_fit": null,
            "object_position": null,
            "order": null,
            "overflow": null,
            "overflow_x": null,
            "overflow_y": null,
            "padding": null,
            "right": null,
            "top": null,
            "visibility": null,
            "width": null
          }
        },
        "4f8d8236b5ef45ed9943a7b41a2144c7": {
          "model_module": "@jupyter-widgets/controls",
          "model_name": "DescriptionStyleModel",
          "model_module_version": "1.5.0",
          "state": {
            "_model_module": "@jupyter-widgets/controls",
            "_model_module_version": "1.5.0",
            "_model_name": "DescriptionStyleModel",
            "_view_count": null,
            "_view_module": "@jupyter-widgets/base",
            "_view_module_version": "1.2.0",
            "_view_name": "StyleView",
            "description_width": ""
          }
        },
        "6247882ee50c44a393b4262b749266ba": {
          "model_module": "@jupyter-widgets/controls",
          "model_name": "HBoxModel",
          "model_module_version": "1.5.0",
          "state": {
            "_dom_classes": [],
            "_model_module": "@jupyter-widgets/controls",
            "_model_module_version": "1.5.0",
            "_model_name": "HBoxModel",
            "_view_count": null,
            "_view_module": "@jupyter-widgets/controls",
            "_view_module_version": "1.5.0",
            "_view_name": "HBoxView",
            "box_style": "",
            "children": [
              "IPY_MODEL_ee256e74ddc34f6695f102b2f42714c0",
              "IPY_MODEL_ee6f56fe988040deb2effbe2d06aa4d8",
              "IPY_MODEL_d4ecac79633e4179ad2ce4e4f21ff145"
            ],
            "layout": "IPY_MODEL_b00ea77e1e7a4bfea295faa785549100"
          }
        },
        "ee256e74ddc34f6695f102b2f42714c0": {
          "model_module": "@jupyter-widgets/controls",
          "model_name": "HTMLModel",
          "model_module_version": "1.5.0",
          "state": {
            "_dom_classes": [],
            "_model_module": "@jupyter-widgets/controls",
            "_model_module_version": "1.5.0",
            "_model_name": "HTMLModel",
            "_view_count": null,
            "_view_module": "@jupyter-widgets/controls",
            "_view_module_version": "1.5.0",
            "_view_name": "HTMLView",
            "description": "",
            "description_tooltip": null,
            "layout": "IPY_MODEL_0ea19bb8b4584eb59c4e57e544ac9754",
            "placeholder": "​",
            "style": "IPY_MODEL_630e202612014a15bc19b77b63dbd7b7",
            "value": "100%"
          }
        },
        "ee6f56fe988040deb2effbe2d06aa4d8": {
          "model_module": "@jupyter-widgets/controls",
          "model_name": "FloatProgressModel",
          "model_module_version": "1.5.0",
          "state": {
            "_dom_classes": [],
            "_model_module": "@jupyter-widgets/controls",
            "_model_module_version": "1.5.0",
            "_model_name": "FloatProgressModel",
            "_view_count": null,
            "_view_module": "@jupyter-widgets/controls",
            "_view_module_version": "1.5.0",
            "_view_name": "ProgressView",
            "bar_style": "success",
            "description": "",
            "description_tooltip": null,
            "layout": "IPY_MODEL_5711a2970e214f55be7aa78fef5f07b6",
            "max": 25,
            "min": 0,
            "orientation": "horizontal",
            "style": "IPY_MODEL_73318a2b1e0b4cf48ddcc428a4e549a4",
            "value": 25
          }
        },
        "d4ecac79633e4179ad2ce4e4f21ff145": {
          "model_module": "@jupyter-widgets/controls",
          "model_name": "HTMLModel",
          "model_module_version": "1.5.0",
          "state": {
            "_dom_classes": [],
            "_model_module": "@jupyter-widgets/controls",
            "_model_module_version": "1.5.0",
            "_model_name": "HTMLModel",
            "_view_count": null,
            "_view_module": "@jupyter-widgets/controls",
            "_view_module_version": "1.5.0",
            "_view_name": "HTMLView",
            "description": "",
            "description_tooltip": null,
            "layout": "IPY_MODEL_720de2df13f24bad8b74f5b0f14e2b24",
            "placeholder": "​",
            "style": "IPY_MODEL_207f1e97302f4c79ba03018f079249a2",
            "value": " 25/25 [08:48&lt;00:00, 20.44s/it]"
          }
        },
        "b00ea77e1e7a4bfea295faa785549100": {
          "model_module": "@jupyter-widgets/base",
          "model_name": "LayoutModel",
          "model_module_version": "1.2.0",
          "state": {
            "_model_module": "@jupyter-widgets/base",
            "_model_module_version": "1.2.0",
            "_model_name": "LayoutModel",
            "_view_count": null,
            "_view_module": "@jupyter-widgets/base",
            "_view_module_version": "1.2.0",
            "_view_name": "LayoutView",
            "align_content": null,
            "align_items": null,
            "align_self": null,
            "border": null,
            "bottom": null,
            "display": null,
            "flex": null,
            "flex_flow": null,
            "grid_area": null,
            "grid_auto_columns": null,
            "grid_auto_flow": null,
            "grid_auto_rows": null,
            "grid_column": null,
            "grid_gap": null,
            "grid_row": null,
            "grid_template_areas": null,
            "grid_template_columns": null,
            "grid_template_rows": null,
            "height": null,
            "justify_content": null,
            "justify_items": null,
            "left": null,
            "margin": null,
            "max_height": null,
            "max_width": null,
            "min_height": null,
            "min_width": null,
            "object_fit": null,
            "object_position": null,
            "order": null,
            "overflow": null,
            "overflow_x": null,
            "overflow_y": null,
            "padding": null,
            "right": null,
            "top": null,
            "visibility": null,
            "width": null
          }
        },
        "0ea19bb8b4584eb59c4e57e544ac9754": {
          "model_module": "@jupyter-widgets/base",
          "model_name": "LayoutModel",
          "model_module_version": "1.2.0",
          "state": {
            "_model_module": "@jupyter-widgets/base",
            "_model_module_version": "1.2.0",
            "_model_name": "LayoutModel",
            "_view_count": null,
            "_view_module": "@jupyter-widgets/base",
            "_view_module_version": "1.2.0",
            "_view_name": "LayoutView",
            "align_content": null,
            "align_items": null,
            "align_self": null,
            "border": null,
            "bottom": null,
            "display": null,
            "flex": null,
            "flex_flow": null,
            "grid_area": null,
            "grid_auto_columns": null,
            "grid_auto_flow": null,
            "grid_auto_rows": null,
            "grid_column": null,
            "grid_gap": null,
            "grid_row": null,
            "grid_template_areas": null,
            "grid_template_columns": null,
            "grid_template_rows": null,
            "height": null,
            "justify_content": null,
            "justify_items": null,
            "left": null,
            "margin": null,
            "max_height": null,
            "max_width": null,
            "min_height": null,
            "min_width": null,
            "object_fit": null,
            "object_position": null,
            "order": null,
            "overflow": null,
            "overflow_x": null,
            "overflow_y": null,
            "padding": null,
            "right": null,
            "top": null,
            "visibility": null,
            "width": null
          }
        },
        "630e202612014a15bc19b77b63dbd7b7": {
          "model_module": "@jupyter-widgets/controls",
          "model_name": "DescriptionStyleModel",
          "model_module_version": "1.5.0",
          "state": {
            "_model_module": "@jupyter-widgets/controls",
            "_model_module_version": "1.5.0",
            "_model_name": "DescriptionStyleModel",
            "_view_count": null,
            "_view_module": "@jupyter-widgets/base",
            "_view_module_version": "1.2.0",
            "_view_name": "StyleView",
            "description_width": ""
          }
        },
        "5711a2970e214f55be7aa78fef5f07b6": {
          "model_module": "@jupyter-widgets/base",
          "model_name": "LayoutModel",
          "model_module_version": "1.2.0",
          "state": {
            "_model_module": "@jupyter-widgets/base",
            "_model_module_version": "1.2.0",
            "_model_name": "LayoutModel",
            "_view_count": null,
            "_view_module": "@jupyter-widgets/base",
            "_view_module_version": "1.2.0",
            "_view_name": "LayoutView",
            "align_content": null,
            "align_items": null,
            "align_self": null,
            "border": null,
            "bottom": null,
            "display": null,
            "flex": null,
            "flex_flow": null,
            "grid_area": null,
            "grid_auto_columns": null,
            "grid_auto_flow": null,
            "grid_auto_rows": null,
            "grid_column": null,
            "grid_gap": null,
            "grid_row": null,
            "grid_template_areas": null,
            "grid_template_columns": null,
            "grid_template_rows": null,
            "height": null,
            "justify_content": null,
            "justify_items": null,
            "left": null,
            "margin": null,
            "max_height": null,
            "max_width": null,
            "min_height": null,
            "min_width": null,
            "object_fit": null,
            "object_position": null,
            "order": null,
            "overflow": null,
            "overflow_x": null,
            "overflow_y": null,
            "padding": null,
            "right": null,
            "top": null,
            "visibility": null,
            "width": null
          }
        },
        "73318a2b1e0b4cf48ddcc428a4e549a4": {
          "model_module": "@jupyter-widgets/controls",
          "model_name": "ProgressStyleModel",
          "model_module_version": "1.5.0",
          "state": {
            "_model_module": "@jupyter-widgets/controls",
            "_model_module_version": "1.5.0",
            "_model_name": "ProgressStyleModel",
            "_view_count": null,
            "_view_module": "@jupyter-widgets/base",
            "_view_module_version": "1.2.0",
            "_view_name": "StyleView",
            "bar_color": null,
            "description_width": ""
          }
        },
        "720de2df13f24bad8b74f5b0f14e2b24": {
          "model_module": "@jupyter-widgets/base",
          "model_name": "LayoutModel",
          "model_module_version": "1.2.0",
          "state": {
            "_model_module": "@jupyter-widgets/base",
            "_model_module_version": "1.2.0",
            "_model_name": "LayoutModel",
            "_view_count": null,
            "_view_module": "@jupyter-widgets/base",
            "_view_module_version": "1.2.0",
            "_view_name": "LayoutView",
            "align_content": null,
            "align_items": null,
            "align_self": null,
            "border": null,
            "bottom": null,
            "display": null,
            "flex": null,
            "flex_flow": null,
            "grid_area": null,
            "grid_auto_columns": null,
            "grid_auto_flow": null,
            "grid_auto_rows": null,
            "grid_column": null,
            "grid_gap": null,
            "grid_row": null,
            "grid_template_areas": null,
            "grid_template_columns": null,
            "grid_template_rows": null,
            "height": null,
            "justify_content": null,
            "justify_items": null,
            "left": null,
            "margin": null,
            "max_height": null,
            "max_width": null,
            "min_height": null,
            "min_width": null,
            "object_fit": null,
            "object_position": null,
            "order": null,
            "overflow": null,
            "overflow_x": null,
            "overflow_y": null,
            "padding": null,
            "right": null,
            "top": null,
            "visibility": null,
            "width": null
          }
        },
        "207f1e97302f4c79ba03018f079249a2": {
          "model_module": "@jupyter-widgets/controls",
          "model_name": "DescriptionStyleModel",
          "model_module_version": "1.5.0",
          "state": {
            "_model_module": "@jupyter-widgets/controls",
            "_model_module_version": "1.5.0",
            "_model_name": "DescriptionStyleModel",
            "_view_count": null,
            "_view_module": "@jupyter-widgets/base",
            "_view_module_version": "1.2.0",
            "_view_name": "StyleView",
            "description_width": ""
          }
        },
        "aaad35aa62a043acb69c52f6582e6404": {
          "model_module": "@jupyter-widgets/controls",
          "model_name": "HBoxModel",
          "model_module_version": "1.5.0",
          "state": {
            "_dom_classes": [],
            "_model_module": "@jupyter-widgets/controls",
            "_model_module_version": "1.5.0",
            "_model_name": "HBoxModel",
            "_view_count": null,
            "_view_module": "@jupyter-widgets/controls",
            "_view_module_version": "1.5.0",
            "_view_name": "HBoxView",
            "box_style": "",
            "children": [
              "IPY_MODEL_8ba43867efab4ee383bf753421e67874",
              "IPY_MODEL_ac5b00eee55d406f8d9c9a9c91851f70",
              "IPY_MODEL_75ed5e93e5ff4612beb6069b09393717"
            ],
            "layout": "IPY_MODEL_58045f86702c4ec1a04fc0e598dbd373"
          }
        },
        "8ba43867efab4ee383bf753421e67874": {
          "model_module": "@jupyter-widgets/controls",
          "model_name": "HTMLModel",
          "model_module_version": "1.5.0",
          "state": {
            "_dom_classes": [],
            "_model_module": "@jupyter-widgets/controls",
            "_model_module_version": "1.5.0",
            "_model_name": "HTMLModel",
            "_view_count": null,
            "_view_module": "@jupyter-widgets/controls",
            "_view_module_version": "1.5.0",
            "_view_name": "HTMLView",
            "description": "",
            "description_tooltip": null,
            "layout": "IPY_MODEL_b38c0a7e3a0140a9a628f1b44d85fef2",
            "placeholder": "​",
            "style": "IPY_MODEL_a5efcb0ec1bb426a94bc7cc2c8b592f8",
            "value": "100%"
          }
        },
        "ac5b00eee55d406f8d9c9a9c91851f70": {
          "model_module": "@jupyter-widgets/controls",
          "model_name": "FloatProgressModel",
          "model_module_version": "1.5.0",
          "state": {
            "_dom_classes": [],
            "_model_module": "@jupyter-widgets/controls",
            "_model_module_version": "1.5.0",
            "_model_name": "FloatProgressModel",
            "_view_count": null,
            "_view_module": "@jupyter-widgets/controls",
            "_view_module_version": "1.5.0",
            "_view_name": "ProgressView",
            "bar_style": "success",
            "description": "",
            "description_tooltip": null,
            "layout": "IPY_MODEL_509c196243d44d019ac0056d41e857bf",
            "max": 60,
            "min": 0,
            "orientation": "horizontal",
            "style": "IPY_MODEL_e0214f214ca24dafbd0e89769a43415c",
            "value": 60
          }
        },
        "75ed5e93e5ff4612beb6069b09393717": {
          "model_module": "@jupyter-widgets/controls",
          "model_name": "HTMLModel",
          "model_module_version": "1.5.0",
          "state": {
            "_dom_classes": [],
            "_model_module": "@jupyter-widgets/controls",
            "_model_module_version": "1.5.0",
            "_model_name": "HTMLModel",
            "_view_count": null,
            "_view_module": "@jupyter-widgets/controls",
            "_view_module_version": "1.5.0",
            "_view_name": "HTMLView",
            "description": "",
            "description_tooltip": null,
            "layout": "IPY_MODEL_8c28e95cca6744ea942fa0490c890fc4",
            "placeholder": "​",
            "style": "IPY_MODEL_c884a7a9b6db4da38e95b5c5f3ca1be4",
            "value": " 60/60 [1:26:00&lt;00:00, 84.98s/it]"
          }
        },
        "58045f86702c4ec1a04fc0e598dbd373": {
          "model_module": "@jupyter-widgets/base",
          "model_name": "LayoutModel",
          "model_module_version": "1.2.0",
          "state": {
            "_model_module": "@jupyter-widgets/base",
            "_model_module_version": "1.2.0",
            "_model_name": "LayoutModel",
            "_view_count": null,
            "_view_module": "@jupyter-widgets/base",
            "_view_module_version": "1.2.0",
            "_view_name": "LayoutView",
            "align_content": null,
            "align_items": null,
            "align_self": null,
            "border": null,
            "bottom": null,
            "display": null,
            "flex": null,
            "flex_flow": null,
            "grid_area": null,
            "grid_auto_columns": null,
            "grid_auto_flow": null,
            "grid_auto_rows": null,
            "grid_column": null,
            "grid_gap": null,
            "grid_row": null,
            "grid_template_areas": null,
            "grid_template_columns": null,
            "grid_template_rows": null,
            "height": null,
            "justify_content": null,
            "justify_items": null,
            "left": null,
            "margin": null,
            "max_height": null,
            "max_width": null,
            "min_height": null,
            "min_width": null,
            "object_fit": null,
            "object_position": null,
            "order": null,
            "overflow": null,
            "overflow_x": null,
            "overflow_y": null,
            "padding": null,
            "right": null,
            "top": null,
            "visibility": null,
            "width": null
          }
        },
        "b38c0a7e3a0140a9a628f1b44d85fef2": {
          "model_module": "@jupyter-widgets/base",
          "model_name": "LayoutModel",
          "model_module_version": "1.2.0",
          "state": {
            "_model_module": "@jupyter-widgets/base",
            "_model_module_version": "1.2.0",
            "_model_name": "LayoutModel",
            "_view_count": null,
            "_view_module": "@jupyter-widgets/base",
            "_view_module_version": "1.2.0",
            "_view_name": "LayoutView",
            "align_content": null,
            "align_items": null,
            "align_self": null,
            "border": null,
            "bottom": null,
            "display": null,
            "flex": null,
            "flex_flow": null,
            "grid_area": null,
            "grid_auto_columns": null,
            "grid_auto_flow": null,
            "grid_auto_rows": null,
            "grid_column": null,
            "grid_gap": null,
            "grid_row": null,
            "grid_template_areas": null,
            "grid_template_columns": null,
            "grid_template_rows": null,
            "height": null,
            "justify_content": null,
            "justify_items": null,
            "left": null,
            "margin": null,
            "max_height": null,
            "max_width": null,
            "min_height": null,
            "min_width": null,
            "object_fit": null,
            "object_position": null,
            "order": null,
            "overflow": null,
            "overflow_x": null,
            "overflow_y": null,
            "padding": null,
            "right": null,
            "top": null,
            "visibility": null,
            "width": null
          }
        },
        "a5efcb0ec1bb426a94bc7cc2c8b592f8": {
          "model_module": "@jupyter-widgets/controls",
          "model_name": "DescriptionStyleModel",
          "model_module_version": "1.5.0",
          "state": {
            "_model_module": "@jupyter-widgets/controls",
            "_model_module_version": "1.5.0",
            "_model_name": "DescriptionStyleModel",
            "_view_count": null,
            "_view_module": "@jupyter-widgets/base",
            "_view_module_version": "1.2.0",
            "_view_name": "StyleView",
            "description_width": ""
          }
        },
        "509c196243d44d019ac0056d41e857bf": {
          "model_module": "@jupyter-widgets/base",
          "model_name": "LayoutModel",
          "model_module_version": "1.2.0",
          "state": {
            "_model_module": "@jupyter-widgets/base",
            "_model_module_version": "1.2.0",
            "_model_name": "LayoutModel",
            "_view_count": null,
            "_view_module": "@jupyter-widgets/base",
            "_view_module_version": "1.2.0",
            "_view_name": "LayoutView",
            "align_content": null,
            "align_items": null,
            "align_self": null,
            "border": null,
            "bottom": null,
            "display": null,
            "flex": null,
            "flex_flow": null,
            "grid_area": null,
            "grid_auto_columns": null,
            "grid_auto_flow": null,
            "grid_auto_rows": null,
            "grid_column": null,
            "grid_gap": null,
            "grid_row": null,
            "grid_template_areas": null,
            "grid_template_columns": null,
            "grid_template_rows": null,
            "height": null,
            "justify_content": null,
            "justify_items": null,
            "left": null,
            "margin": null,
            "max_height": null,
            "max_width": null,
            "min_height": null,
            "min_width": null,
            "object_fit": null,
            "object_position": null,
            "order": null,
            "overflow": null,
            "overflow_x": null,
            "overflow_y": null,
            "padding": null,
            "right": null,
            "top": null,
            "visibility": null,
            "width": null
          }
        },
        "e0214f214ca24dafbd0e89769a43415c": {
          "model_module": "@jupyter-widgets/controls",
          "model_name": "ProgressStyleModel",
          "model_module_version": "1.5.0",
          "state": {
            "_model_module": "@jupyter-widgets/controls",
            "_model_module_version": "1.5.0",
            "_model_name": "ProgressStyleModel",
            "_view_count": null,
            "_view_module": "@jupyter-widgets/base",
            "_view_module_version": "1.2.0",
            "_view_name": "StyleView",
            "bar_color": null,
            "description_width": ""
          }
        },
        "8c28e95cca6744ea942fa0490c890fc4": {
          "model_module": "@jupyter-widgets/base",
          "model_name": "LayoutModel",
          "model_module_version": "1.2.0",
          "state": {
            "_model_module": "@jupyter-widgets/base",
            "_model_module_version": "1.2.0",
            "_model_name": "LayoutModel",
            "_view_count": null,
            "_view_module": "@jupyter-widgets/base",
            "_view_module_version": "1.2.0",
            "_view_name": "LayoutView",
            "align_content": null,
            "align_items": null,
            "align_self": null,
            "border": null,
            "bottom": null,
            "display": null,
            "flex": null,
            "flex_flow": null,
            "grid_area": null,
            "grid_auto_columns": null,
            "grid_auto_flow": null,
            "grid_auto_rows": null,
            "grid_column": null,
            "grid_gap": null,
            "grid_row": null,
            "grid_template_areas": null,
            "grid_template_columns": null,
            "grid_template_rows": null,
            "height": null,
            "justify_content": null,
            "justify_items": null,
            "left": null,
            "margin": null,
            "max_height": null,
            "max_width": null,
            "min_height": null,
            "min_width": null,
            "object_fit": null,
            "object_position": null,
            "order": null,
            "overflow": null,
            "overflow_x": null,
            "overflow_y": null,
            "padding": null,
            "right": null,
            "top": null,
            "visibility": null,
            "width": null
          }
        },
        "c884a7a9b6db4da38e95b5c5f3ca1be4": {
          "model_module": "@jupyter-widgets/controls",
          "model_name": "DescriptionStyleModel",
          "model_module_version": "1.5.0",
          "state": {
            "_model_module": "@jupyter-widgets/controls",
            "_model_module_version": "1.5.0",
            "_model_name": "DescriptionStyleModel",
            "_view_count": null,
            "_view_module": "@jupyter-widgets/base",
            "_view_module_version": "1.2.0",
            "_view_name": "StyleView",
            "description_width": ""
          }
        }
      }
    }
  },
  "nbformat": 4,
  "nbformat_minor": 0
}