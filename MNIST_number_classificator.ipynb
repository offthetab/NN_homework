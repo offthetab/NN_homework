{
  "nbformat": 4,
  "nbformat_minor": 0,
  "metadata": {
    "colab": {
      "provenance": [],
      "include_colab_link": true
    },
    "kernelspec": {
      "name": "python3",
      "display_name": "Python 3"
    },
    "language_info": {
      "name": "python"
    },
    "gpuClass": "standard"
  },
  "cells": [
    {
      "cell_type": "markdown",
      "metadata": {
        "id": "view-in-github",
        "colab_type": "text"
      },
      "source": [
        "<a href=\"https://colab.research.google.com/github/offthetab/NN_homework/blob/main/MNIST_number_classificator.ipynb\" target=\"_parent\"><img src=\"https://colab.research.google.com/assets/colab-badge.svg\" alt=\"Open In Colab\"/></a>"
      ]
    },
    {
      "cell_type": "code",
      "metadata": {
        "id": "1UR8jWzk6uU3"
      },
      "source": [
        "#pip install torch"
      ],
      "execution_count": null,
      "outputs": []
    },
    {
      "cell_type": "code",
      "metadata": {
        "id": "ukjTXSOE6yht"
      },
      "source": [
        "import torch as th\n",
        "import numpy as np\n",
        "import random\n",
        "import matplotlib.pyplot as plt\n",
        "\n",
        "\n",
        "#сделаем инициализацию random seed,\n",
        "#чтобы наши эксперименты были воспроизводимы\n",
        "\n",
        "random.seed(0)\n",
        "np.random.seed(0)\n",
        "th.manual_seed(0)\n",
        "th.cuda.manual_seed(0)\n",
        "th.backends.cudnn.deterministic=True"
      ],
      "execution_count": null,
      "outputs": []
    },
    {
      "cell_type": "code",
      "metadata": {
        "id": "mnze1dsy759S"
      },
      "source": [
        "#скачивание датасета для классификации изображений\n",
        "import torchvision.datasets\n",
        "\n",
        "MNIST_train = torchvision.datasets.MNIST('./', download = True, train = True)\n",
        "MNIST_test = torchvision.datasets.MNIST('./', download = True, train = False)"
      ],
      "execution_count": null,
      "outputs": []
    },
    {
      "cell_type": "code",
      "metadata": {
        "id": "D17O66_Y8XVd"
      },
      "source": [
        "X_train = MNIST_train.train_data\n",
        "y_train = MNIST_train.train_labels\n",
        "X_test = MNIST_test.test_data\n",
        "y_test = MNIST_test.test_labels"
      ],
      "execution_count": null,
      "outputs": []
    },
    {
      "cell_type": "code",
      "metadata": {
        "colab": {
          "base_uri": "https://localhost:8080/"
        },
        "id": "APx5M9L_9JmE",
        "outputId": "6606f056-3c14-4777-8623-8275e76e0237"
      },
      "source": [
        "#посмотрим какой у данных тип\n",
        "X_train.dtype, y_train.dtype"
      ],
      "execution_count": null,
      "outputs": [
        {
          "output_type": "execute_result",
          "data": {
            "text/plain": [
              "(torch.uint8, torch.int64)"
            ]
          },
          "metadata": {},
          "execution_count": 24
        }
      ]
    },
    {
      "cell_type": "code",
      "metadata": {
        "id": "g2AQpB3t9RL-"
      },
      "source": [
        "#данные имеют тип беззнаковый 8, а таргеты - целые 64 бита\n",
        "#преобразуем сразу данные в веществиенный тип\n",
        "X_train = X_train.float()\n",
        "X_test = X_test.float()"
      ],
      "execution_count": null,
      "outputs": []
    },
    {
      "cell_type": "code",
      "metadata": {
        "colab": {
          "base_uri": "https://localhost:8080/"
        },
        "id": "SzTDAw5t9mdb",
        "outputId": "ef63d24e-7232-44ea-97e1-4510f82c0a88"
      },
      "source": [
        "#посмотрим на расзмерность датасетов\n",
        "X_train.shape, X_test.shape\n",
        "#это очень маленькие картинки, именно поэтому мы можем использовать\n",
        "#полносвязную нейронную сеть для такой задачи, а не сверточные сети"
      ],
      "execution_count": null,
      "outputs": [
        {
          "output_type": "execute_result",
          "data": {
            "text/plain": [
              "(torch.Size([60000, 28, 28]), torch.Size([10000, 28, 28]))"
            ]
          },
          "metadata": {},
          "execution_count": 26
        }
      ]
    },
    {
      "cell_type": "code",
      "metadata": {
        "colab": {
          "base_uri": "https://localhost:8080/",
          "height": 447
        },
        "id": "oUvvAckp-Sn8",
        "outputId": "f23cea5e-e94c-410e-8665-cfa8f5a23f87"
      },
      "source": [
        "#посмотрим на картинки\n",
        "import matplotlib.pyplot as plt\n",
        "plt.imshow(X_train[7, :, :])\n",
        "plt.show()\n",
        "print(y_train[7])"
      ],
      "execution_count": null,
      "outputs": [
        {
          "output_type": "display_data",
          "data": {
            "text/plain": [
              "<Figure size 640x480 with 1 Axes>"
            ],
            "image/png": "[encoded data removed]"
          },
          "metadata": {}
        },
        {
          "output_type": "stream",
          "name": "stdout",
          "text": [
            "tensor(3)\n"
          ]
        }
      ]
    },
    {
      "cell_type": "code",
      "metadata": {
        "colab": {
          "base_uri": "https://localhost:8080/"
        },
        "id": "51sBbxg1AOug",
        "outputId": "e9856356-e9a5-4f16-ac1e-a676188d3645"
      },
      "source": [
        "#у нас трезмерный тензор, мы хотим двумерный тензор,\n",
        "#чтобы первая рамерность сохранилась, то есть 60000 картинок\n",
        "#вместо 28 и 28 будет 764 пикселя\n",
        "\n",
        "X_train = X_train.reshape([-1, 28*28])\n",
        "X_test = X_test.reshape([-1, 28*28])\n",
        "\n",
        "print(X_train)\n",
        "\n",
        "print(y_test)"
      ],
      "execution_count": null,
      "outputs": [
        {
          "output_type": "stream",
          "name": "stdout",
          "text": [
            "tensor([[0., 0., 0.,  ..., 0., 0., 0.],\n",
            "        [0., 0., 0.,  ..., 0., 0., 0.],\n",
            "        [0., 0., 0.,  ..., 0., 0., 0.],\n",
            "        ...,\n",
            "        [0., 0., 0.,  ..., 0., 0., 0.],\n",
            "        [0., 0., 0.,  ..., 0., 0., 0.],\n",
            "        [0., 0., 0.,  ..., 0., 0., 0.]])\n",
            "tensor([7, 2, 1,  ..., 4, 5, 6])\n"
          ]
        }
      ]
    },
    {
      "cell_type": "code",
      "metadata": {
        "id": "rBCCAbFXB5X6"
      },
      "source": [
        "class MNISTnet(th.nn.Module):\n",
        "  def __init__(self):\n",
        "      super(MNISTnet, self).__init__()\n",
        "\n",
        "      # 1 входной слой\n",
        "      self.fc1 = th.nn.Linear(28 * 28, 20)\n",
        "      self.act1 = th.nn.Sigmoid()\n",
        "\n",
        "      # 2 скрытый слой\n",
        "      self.fc2 = th.nn.Linear(20, 20)\n",
        "      self.act2 = th.nn.LeakyReLU()\n",
        "\n",
        "      # 3 выходной слой\n",
        "      self.out = th.nn.Linear(20, 10) # числа от 0 до 9\n",
        "      self.sm = th.nn.Softmax(dim=1) # вероятность принадлежности к калассу\n",
        "\n",
        "  def forward(self, x):\n",
        "      x = self.fc1(x)\n",
        "      x = self.act1(x)\n",
        "\n",
        "      x = self.fc2(x)\n",
        "      x = self.act2(x)\n",
        "\n",
        "      x = self.out(x)\n",
        "      return x\n",
        "\n",
        "  def predict(self, x):\n",
        "      with th.no_grad():\n",
        "        x = self.forward(x)\n",
        "        x = x.reshape(1, -1)\n",
        "        x = self.sm(x)\n",
        "        return x\n",
        "\n",
        "net = MNISTnet()"
      ],
      "execution_count": null,
      "outputs": []
    },
    {
      "cell_type": "code",
      "metadata": {
        "colab": {
          "base_uri": "https://localhost:8080/"
        },
        "id": "FU0vdZleMF_N",
        "outputId": "3ceb3b5d-b78e-48b3-9af5-0d921cef9d9a"
      },
      "source": [
        "''' есть ли видеокарта?'''\n",
        "th.cuda.is_available()"
      ],
      "execution_count": null,
      "outputs": [
        {
          "output_type": "execute_result",
          "data": {
            "text/plain": [
              "False"
            ]
          },
          "metadata": {},
          "execution_count": 39
        }
      ]
    },
    {
      "cell_type": "code",
      "metadata": {
        "colab": {
          "base_uri": "https://localhost:8080/"
        },
        "id": "4yHSa30oMhXb",
        "outputId": "aad192cd-dfdc-45ca-8902-e728a8e4d12d"
      },
      "source": [
        "'''смотрим, занята ли карта какими либо вычислениями'''\n",
        "!nvidia-smi"
      ],
      "execution_count": null,
      "outputs": [
        {
          "output_type": "stream",
          "name": "stdout",
          "text": [
            "/bin/bash: line 1: nvidia-smi: command not found\n"
          ]
        }
      ]
    },
    {
      "cell_type": "code",
      "metadata": {
        "id": "ZWe0YPZnMwtN"
      },
      "source": [
        "\"\"\" теперь нужно переложить вычисления на видеокарту\"\"\"\n",
        "\n",
        "device = th.device('cuda:0' if th.cuda.is_available() else 'cpu')\n",
        "net = net.to(device)"
      ],
      "execution_count": null,
      "outputs": []
    },
    {
      "cell_type": "markdown",
      "source": [],
      "metadata": {
        "id": "bRc7gdVnyiCl"
      }
    },
    {
      "cell_type": "code",
      "metadata": {
        "id": "WtSXW1VvDSsv"
      },
      "source": [
        "loss = th.nn.CrossEntropyLoss() # функция потерь\n",
        "opt = th.optim.Adam(net.parameters(), lr=0.001) # #оптимизатор"
      ],
      "execution_count": null,
      "outputs": []
    },
    {
      "cell_type": "code",
      "metadata": {
        "id": "iLHagWwaHCEg"
      },
      "source": [
        "def start(batch_size, epochs):\n",
        "  acc = []\n",
        "  train_loss = []\n",
        "  test_loss = []\n",
        "\n",
        "  for epoch in range(epochs):\n",
        "    order = np.random.permutation(len(X_train))\n",
        "    for start_index in range (0,len(X_train), batch_size):\n",
        "\n",
        "      opt.zero_grad()\n",
        "\n",
        "      batch_indexes = order[start_index:start_index + batch_size]\n",
        "      X_batch = X_train[batch_indexes]\n",
        "      y_batch = y_train[batch_indexes]\n",
        "\n",
        "      preds = net.forward(X_batch)\n",
        "      loss_value = loss(preds, y_batch)\n",
        "      loss_value.backward()\n",
        "\n",
        "      opt.step()\n",
        "\n",
        "    # accuracy на тестовых данных\n",
        "    test_preds = net.forward(X_test)\n",
        "    accuracy = (test_preds.argmax(dim=1) == y_test).float().mean()\n",
        "    acc.append(float(accuracy))\n",
        "\n",
        "    # train loss\n",
        "    train_prediction = net.forward(X_train)\n",
        "    train_loss.append(float(loss(train_prediction, y_train)))\n",
        "\n",
        "    # test loss\n",
        "    test_prediction = net.forward(X_test)\n",
        "    test_loss.append(float(loss(test_prediction, y_test)))\n",
        "\n",
        "  return acc, train_loss, test_loss"
      ],
      "execution_count": null,
      "outputs": []
    },
    {
      "cell_type": "code",
      "source": [
        "accuracy, train_loss, test_loss = start(1_000, 40)\n",
        "\n",
        "fig, ax = plt.subplots(1, 2, figsize=(10, 5))\n",
        "fig.suptitle('40 epochs')\n",
        "\n",
        "ax[0].plot(np.arange(1, len(accuracy)+1), accuracy)\n",
        "ax[0].set_title(\"accuracy\")\n",
        "ax[0].grid()\n",
        "\n",
        "epochs = np.arange(1, len(accuracy)+1)\n",
        "ax[1].plot(epochs, train_loss, color='green', label='train loss')\n",
        "ax[1].plot(epochs, test_loss, color='red', label='test loss')\n",
        "ax[1].set_title(\"loss\")\n",
        "ax[1].legend()\n",
        "ax[1].grid()"
      ],
      "metadata": {
        "colab": {
          "base_uri": "https://localhost:8080/",
          "height": 495
        },
        "id": "urWryav8Seig",
        "outputId": "23418834-3430-4ac1-9eb9-33484f4932c2"
      },
      "execution_count": null,
      "outputs": [
        {
          "output_type": "display_data",
          "data": {
            "text/plain": [
              "<Figure size 1000x500 with 2 Axes>"
            ],
            "image/png": "[encoded data removed]"
          },
          "metadata": {}
        }
      ]
    },
    {
      "cell_type": "code",
      "source": [
        "rand = np.random.randint(len(X_test), size=24)\n",
        "\n",
        "model_predictions = [th.argmax(net.predict(X_test[rand[i]])).item()  for i in range(len(rand))]\n",
        "real_number = y_test[rand]\n",
        "\n",
        "print(f\"Берем 10 случайных тестовых данных для проверки работы модели:\\nПредсказания модели: {model_predictions} \\nРеальные отв: {real_number}\")"
      ],
      "metadata": {
        "colab": {
          "base_uri": "https://localhost:8080/"
        },
        "id": "A4S77juAht07",
        "outputId": "645121b1-5ff4-4f8a-ac2d-c5113cd89b33"
      },
      "execution_count": null,
      "outputs": [
        {
          "output_type": "stream",
          "name": "stdout",
          "text": [
            "Берем 10 случайных тестовых данных для проверки работы модели:\n",
            "Предсказания модели: [5, 3, 0, 9, 5, 5, 2, 7, 7, 7, 0, 0, 2, 5, 6, 9, 3, 9, 3, 1, 6, 7, 1, 3] \n",
            "Реальные отв: tensor([5, 3, 0, 9, 5, 5, 2, 7, 7, 7, 0, 0, 2, 5, 6, 9, 3, 9, 3, 1, 6, 3, 1, 3])\n"
          ]
        }
      ]
    }
  ]
}